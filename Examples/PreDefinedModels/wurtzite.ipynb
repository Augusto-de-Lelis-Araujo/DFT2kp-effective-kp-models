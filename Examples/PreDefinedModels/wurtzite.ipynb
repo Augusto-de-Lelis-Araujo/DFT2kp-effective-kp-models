{
 "cells": [
  {
   "cell_type": "markdown",
   "metadata": {},
   "source": [
    "# Pre generated model: Wurtzite\n",
    "\n",
    "Here we run \"step 4\" separately to define a common object for all materials of the same type.\n",
    "\n",
    "This is useful because each time you run QSYMM to define the kp model, its numerical process may lead Hamiltonian families that are equivalent, but with different numerical prefactors or different order of the $c_n$ coefficients. Therefore, here define the model and store it in a file to be read by the examples that uses this crystal symmetry.\n",
    "\n",
    "## Three cases\n",
    "\n",
    "For Wurtzite, the top valence bands transform as the double group irreps G9+G9+G7 of C6v. However, for the conduction band there are two possible cases: G8 or G9.\n",
    "\n",
    "- For GaN, the first conduction band is G9, and the second is G8.\n",
    "- For GaP, the first conduction band is G8, and the second is G9.\n",
    "\n",
    "Therefore, we refer to three models\n",
    "\n",
    "- H9 (wurtizte9.pickle): the 8x8 model where the conduction band is G9.\n",
    "- H8 (wurtizte8.pickle): the 8x8 model where the conduction band is G8.\n",
    "- H10 (wurtizte.pickle): the 10x10 model accounting for two conduction bands G8+G9."
   ]
  },
  {
   "cell_type": "code",
   "execution_count": 1,
   "metadata": {},
   "outputs": [],
   "source": [
    "import numpy as np\n",
    "import pydft2kp as dft2kp\n",
    "from qsymm.hamiltonian_generator import hamiltonian_from_family\n",
    "import sympy\n",
    "import pickle"
   ]
  },
  {
   "cell_type": "markdown",
   "metadata": {},
   "source": [
    "# Model H10\n",
    "\n",
    "- Valence = G9+G9+G7\n",
    "- Conduction = G8+G9\n",
    "- H is 10x10"
   ]
  },
  {
   "cell_type": "code",
   "execution_count": 6,
   "metadata": {},
   "outputs": [
    {
     "data": {
      "text/latex": [
       "$\\displaystyle \\left[\\begin{matrix}c_{0} + c_{22} k_{x}^{2} + c_{22} k_{y}^{2} + c_{44} k_{z}^{2} & i c_{9} k_{x} + c_{9} k_{y} & 0 & i c_{33} k_{x}^{2} - 2 c_{33} k_{x} k_{y} - i c_{33} k_{y}^{2} & c_{1} + i c_{19} k_{z} + c_{23} k_{x}^{2} + c_{23} k_{y}^{2} + c_{45} k_{z}^{2} & i c_{10} k_{x} + c_{10} k_{y} + c_{37} k_{x} k_{z} - i c_{37} k_{y} k_{z} & i c_{11} k_{x} + c_{11} k_{y} + c_{38} k_{x} k_{z} - i c_{38} k_{y} k_{z} & c_{2} + i c_{20} k_{z} + c_{24} k_{x}^{2} + c_{24} k_{y}^{2} + c_{46} k_{z}^{2} & i c_{12} k_{x} - c_{12} k_{y} + c_{39} k_{x} k_{z} + i c_{39} k_{y} k_{z} & c_{25} k_{x}^{2} - 2 i c_{25} k_{x} k_{y} - c_{25} k_{y}^{2}\\\\- i c_{9} k_{x} + c_{9} k_{y} & c_{0} + c_{22} k_{x}^{2} + c_{22} k_{y}^{2} + c_{44} k_{z}^{2} & i c_{33} k_{x}^{2} + 2 c_{33} k_{x} k_{y} - i c_{33} k_{y}^{2} & 0 & - i c_{10} k_{x} + c_{10} k_{y} - c_{37} k_{x} k_{z} - i c_{37} k_{y} k_{z} & c_{1} + i c_{19} k_{z} + c_{23} k_{x}^{2} + c_{23} k_{y}^{2} + c_{45} k_{z}^{2} & - c_{2} - i c_{20} k_{z} - c_{24} k_{x}^{2} - c_{24} k_{y}^{2} - c_{46} k_{z}^{2} & i c_{11} k_{x} - c_{11} k_{y} + c_{38} k_{x} k_{z} + i c_{38} k_{y} k_{z} & - c_{25} k_{x}^{2} - 2 i c_{25} k_{x} k_{y} + c_{25} k_{y}^{2} & i c_{12} k_{x} + c_{12} k_{y} + c_{39} k_{x} k_{z} - i c_{39} k_{y} k_{z}\\\\0 & - i c_{33} k_{x}^{2} + 2 c_{33} k_{x} k_{y} + i c_{33} k_{y}^{2} & c_{26} k_{x}^{2} + c_{26} k_{y}^{2} + c_{3} + c_{47} k_{z}^{2} & i c_{13} k_{x} + c_{13} k_{y} & 0 & i c_{34} k_{x}^{2} - 2 c_{34} k_{x} k_{y} - i c_{34} k_{y}^{2} & i c_{35} k_{x}^{2} - 2 c_{35} k_{x} k_{y} - i c_{35} k_{y}^{2} & 0 & i c_{36} k_{x}^{2} + 2 c_{36} k_{x} k_{y} - i c_{36} k_{y}^{2} & i c_{43} k_{x} k_{z} - c_{43} k_{y} k_{z} + c_{8} k_{x} + i c_{8} k_{y}\\\\- i c_{33} k_{x}^{2} - 2 c_{33} k_{x} k_{y} + i c_{33} k_{y}^{2} & 0 & - i c_{13} k_{x} + c_{13} k_{y} & c_{26} k_{x}^{2} + c_{26} k_{y}^{2} + c_{3} + c_{47} k_{z}^{2} & i c_{34} k_{x}^{2} + 2 c_{34} k_{x} k_{y} - i c_{34} k_{y}^{2} & 0 & 0 & - i c_{35} k_{x}^{2} - 2 c_{35} k_{x} k_{y} + i c_{35} k_{y}^{2} & i c_{43} k_{x} k_{z} + c_{43} k_{y} k_{z} + c_{8} k_{x} - i c_{8} k_{y} & - i c_{36} k_{x}^{2} + 2 c_{36} k_{x} k_{y} + i c_{36} k_{y}^{2}\\\\c_{1} - i c_{19} k_{z} + c_{23} k_{x}^{2} + c_{23} k_{y}^{2} + c_{45} k_{z}^{2} & i c_{10} k_{x} + c_{10} k_{y} - c_{37} k_{x} k_{z} + i c_{37} k_{y} k_{z} & 0 & - i c_{34} k_{x}^{2} + 2 c_{34} k_{x} k_{y} + i c_{34} k_{y}^{2} & c_{27} k_{x}^{2} + c_{27} k_{y}^{2} + c_{4} + c_{48} k_{z}^{2} & i c_{14} k_{x} + c_{14} k_{y} & i c_{15} k_{x} + c_{15} k_{y} + c_{40} k_{x} k_{z} - i c_{40} k_{y} k_{z} & i c_{21} k_{z} + c_{28} k_{x}^{2} + c_{28} k_{y}^{2} + c_{49} k_{z}^{2} + c_{5} & i c_{16} k_{x} - c_{16} k_{y} + c_{41} k_{x} k_{z} + i c_{41} k_{y} k_{z} & c_{29} k_{x}^{2} - 2 i c_{29} k_{x} k_{y} - c_{29} k_{y}^{2}\\\\- i c_{10} k_{x} + c_{10} k_{y} + c_{37} k_{x} k_{z} + i c_{37} k_{y} k_{z} & c_{1} - i c_{19} k_{z} + c_{23} k_{x}^{2} + c_{23} k_{y}^{2} + c_{45} k_{z}^{2} & - i c_{34} k_{x}^{2} - 2 c_{34} k_{x} k_{y} + i c_{34} k_{y}^{2} & 0 & - i c_{14} k_{x} + c_{14} k_{y} & c_{27} k_{x}^{2} + c_{27} k_{y}^{2} + c_{4} + c_{48} k_{z}^{2} & - i c_{21} k_{z} - c_{28} k_{x}^{2} - c_{28} k_{y}^{2} - c_{49} k_{z}^{2} - c_{5} & i c_{15} k_{x} - c_{15} k_{y} + c_{40} k_{x} k_{z} + i c_{40} k_{y} k_{z} & - c_{29} k_{x}^{2} - 2 i c_{29} k_{x} k_{y} + c_{29} k_{y}^{2} & i c_{16} k_{x} + c_{16} k_{y} + c_{41} k_{x} k_{z} - i c_{41} k_{y} k_{z}\\\\- i c_{11} k_{x} + c_{11} k_{y} + c_{38} k_{x} k_{z} + i c_{38} k_{y} k_{z} & - c_{2} + i c_{20} k_{z} - c_{24} k_{x}^{2} - c_{24} k_{y}^{2} - c_{46} k_{z}^{2} & - i c_{35} k_{x}^{2} - 2 c_{35} k_{x} k_{y} + i c_{35} k_{y}^{2} & 0 & - i c_{15} k_{x} + c_{15} k_{y} + c_{40} k_{x} k_{z} + i c_{40} k_{y} k_{z} & i c_{21} k_{z} - c_{28} k_{x}^{2} - c_{28} k_{y}^{2} - c_{49} k_{z}^{2} - c_{5} & c_{30} k_{x}^{2} + c_{30} k_{y}^{2} + c_{50} k_{z}^{2} + c_{6} & i c_{17} k_{x} - c_{17} k_{y} & c_{31} k_{x}^{2} + 2 i c_{31} k_{x} k_{y} - c_{31} k_{y}^{2} & i c_{18} k_{x} + c_{18} k_{y} + c_{42} k_{x} k_{z} - i c_{42} k_{y} k_{z}\\\\c_{2} - i c_{20} k_{z} + c_{24} k_{x}^{2} + c_{24} k_{y}^{2} + c_{46} k_{z}^{2} & - i c_{11} k_{x} - c_{11} k_{y} + c_{38} k_{x} k_{z} - i c_{38} k_{y} k_{z} & 0 & i c_{35} k_{x}^{2} - 2 c_{35} k_{x} k_{y} - i c_{35} k_{y}^{2} & - i c_{21} k_{z} + c_{28} k_{x}^{2} + c_{28} k_{y}^{2} + c_{49} k_{z}^{2} + c_{5} & - i c_{15} k_{x} - c_{15} k_{y} + c_{40} k_{x} k_{z} - i c_{40} k_{y} k_{z} & - i c_{17} k_{x} - c_{17} k_{y} & c_{30} k_{x}^{2} + c_{30} k_{y}^{2} + c_{50} k_{z}^{2} + c_{6} & - i c_{18} k_{x} + c_{18} k_{y} - c_{42} k_{x} k_{z} - i c_{42} k_{y} k_{z} & c_{31} k_{x}^{2} - 2 i c_{31} k_{x} k_{y} - c_{31} k_{y}^{2}\\\\- i c_{12} k_{x} - c_{12} k_{y} + c_{39} k_{x} k_{z} - i c_{39} k_{y} k_{z} & - c_{25} k_{x}^{2} + 2 i c_{25} k_{x} k_{y} + c_{25} k_{y}^{2} & - i c_{36} k_{x}^{2} + 2 c_{36} k_{x} k_{y} + i c_{36} k_{y}^{2} & - i c_{43} k_{x} k_{z} + c_{43} k_{y} k_{z} + c_{8} k_{x} + i c_{8} k_{y} & - i c_{16} k_{x} - c_{16} k_{y} + c_{41} k_{x} k_{z} - i c_{41} k_{y} k_{z} & - c_{29} k_{x}^{2} + 2 i c_{29} k_{x} k_{y} + c_{29} k_{y}^{2} & c_{31} k_{x}^{2} - 2 i c_{31} k_{x} k_{y} - c_{31} k_{y}^{2} & i c_{18} k_{x} + c_{18} k_{y} - c_{42} k_{x} k_{z} + i c_{42} k_{y} k_{z} & c_{32} k_{x}^{2} + c_{32} k_{y}^{2} + c_{51} k_{z}^{2} + c_{7} & 0\\\\c_{25} k_{x}^{2} + 2 i c_{25} k_{x} k_{y} - c_{25} k_{y}^{2} & - i c_{12} k_{x} + c_{12} k_{y} + c_{39} k_{x} k_{z} + i c_{39} k_{y} k_{z} & - i c_{43} k_{x} k_{z} - c_{43} k_{y} k_{z} + c_{8} k_{x} - i c_{8} k_{y} & i c_{36} k_{x}^{2} + 2 c_{36} k_{x} k_{y} - i c_{36} k_{y}^{2} & c_{29} k_{x}^{2} + 2 i c_{29} k_{x} k_{y} - c_{29} k_{y}^{2} & - i c_{16} k_{x} + c_{16} k_{y} + c_{41} k_{x} k_{z} + i c_{41} k_{y} k_{z} & - i c_{18} k_{x} + c_{18} k_{y} + c_{42} k_{x} k_{z} + i c_{42} k_{y} k_{z} & c_{31} k_{x}^{2} + 2 i c_{31} k_{x} k_{y} - c_{31} k_{y}^{2} & 0 & c_{32} k_{x}^{2} + c_{32} k_{y}^{2} + c_{51} k_{z}^{2} + c_{7}\\end{matrix}\\right]$"
      ],
      "text/plain": [
       "Matrix([\n",
       "[            c0 + c22*k_x**2 + c22*k_y**2 + c44*k_z**2,                                      I*c9*k_x + c9*k_y,                                                0,      I*c33*k_x**2 - 2*c33*k_x*k_y - I*c33*k_y**2,  c1 + I*c19*k_z + c23*k_x**2 + c23*k_y**2 + c45*k_z**2,     I*c10*k_x + c10*k_y + c37*k_x*k_z - I*c37*k_y*k_z,      I*c11*k_x + c11*k_y + c38*k_x*k_z - I*c38*k_y*k_z, c2 + I*c20*k_z + c24*k_x**2 + c24*k_y**2 + c46*k_z**2,  I*c12*k_x - c12*k_y + c39*k_x*k_z + I*c39*k_y*k_z,         c25*k_x**2 - 2*I*c25*k_x*k_y - c25*k_y**2],\n",
       "[                                   -I*c9*k_x + c9*k_y,              c0 + c22*k_x**2 + c22*k_y**2 + c44*k_z**2,      I*c33*k_x**2 + 2*c33*k_x*k_y - I*c33*k_y**2,                                                0,     -I*c10*k_x + c10*k_y - c37*k_x*k_z - I*c37*k_y*k_z, c1 + I*c19*k_z + c23*k_x**2 + c23*k_y**2 + c45*k_z**2, -c2 - I*c20*k_z - c24*k_x**2 - c24*k_y**2 - c46*k_z**2,     I*c11*k_x - c11*k_y + c38*k_x*k_z + I*c38*k_y*k_z,         -c25*k_x**2 - 2*I*c25*k_x*k_y + c25*k_y**2, I*c12*k_x + c12*k_y + c39*k_x*k_z - I*c39*k_y*k_z],\n",
       "[                                                    0,           -I*c33*k_x**2 + 2*c33*k_x*k_y + I*c33*k_y**2,        c26*k_x**2 + c26*k_y**2 + c3 + c47*k_z**2,                              I*c13*k_x + c13*k_y,                                                      0,           I*c34*k_x**2 - 2*c34*k_x*k_y - I*c34*k_y**2,            I*c35*k_x**2 - 2*c35*k_x*k_y - I*c35*k_y**2,                                                     0,        I*c36*k_x**2 + 2*c36*k_x*k_y - I*c36*k_y**2,   I*c43*k_x*k_z - c43*k_y*k_z + c8*k_x + I*c8*k_y],\n",
       "[         -I*c33*k_x**2 - 2*c33*k_x*k_y + I*c33*k_y**2,                                                      0,                             -I*c13*k_x + c13*k_y,        c26*k_x**2 + c26*k_y**2 + c3 + c47*k_z**2,            I*c34*k_x**2 + 2*c34*k_x*k_y - I*c34*k_y**2,                                                     0,                                                      0,          -I*c35*k_x**2 - 2*c35*k_x*k_y + I*c35*k_y**2,    I*c43*k_x*k_z + c43*k_y*k_z + c8*k_x - I*c8*k_y,      -I*c36*k_x**2 + 2*c36*k_x*k_y + I*c36*k_y**2],\n",
       "[c1 - I*c19*k_z + c23*k_x**2 + c23*k_y**2 + c45*k_z**2,      I*c10*k_x + c10*k_y - c37*k_x*k_z + I*c37*k_y*k_z,                                                0,     -I*c34*k_x**2 + 2*c34*k_x*k_y + I*c34*k_y**2,              c27*k_x**2 + c27*k_y**2 + c4 + c48*k_z**2,                                   I*c14*k_x + c14*k_y,      I*c15*k_x + c15*k_y + c40*k_x*k_z - I*c40*k_y*k_z, I*c21*k_z + c28*k_x**2 + c28*k_y**2 + c49*k_z**2 + c5,  I*c16*k_x - c16*k_y + c41*k_x*k_z + I*c41*k_y*k_z,         c29*k_x**2 - 2*I*c29*k_x*k_y - c29*k_y**2],\n",
       "[   -I*c10*k_x + c10*k_y + c37*k_x*k_z + I*c37*k_y*k_z,  c1 - I*c19*k_z + c23*k_x**2 + c23*k_y**2 + c45*k_z**2,     -I*c34*k_x**2 - 2*c34*k_x*k_y + I*c34*k_y**2,                                                0,                                   -I*c14*k_x + c14*k_y,             c27*k_x**2 + c27*k_y**2 + c4 + c48*k_z**2, -I*c21*k_z - c28*k_x**2 - c28*k_y**2 - c49*k_z**2 - c5,     I*c15*k_x - c15*k_y + c40*k_x*k_z + I*c40*k_y*k_z,         -c29*k_x**2 - 2*I*c29*k_x*k_y + c29*k_y**2, I*c16*k_x + c16*k_y + c41*k_x*k_z - I*c41*k_y*k_z],\n",
       "[   -I*c11*k_x + c11*k_y + c38*k_x*k_z + I*c38*k_y*k_z, -c2 + I*c20*k_z - c24*k_x**2 - c24*k_y**2 - c46*k_z**2,     -I*c35*k_x**2 - 2*c35*k_x*k_y + I*c35*k_y**2,                                                0,     -I*c15*k_x + c15*k_y + c40*k_x*k_z + I*c40*k_y*k_z, I*c21*k_z - c28*k_x**2 - c28*k_y**2 - c49*k_z**2 - c5,              c30*k_x**2 + c30*k_y**2 + c50*k_z**2 + c6,                                   I*c17*k_x - c17*k_y,          c31*k_x**2 + 2*I*c31*k_x*k_y - c31*k_y**2, I*c18*k_x + c18*k_y + c42*k_x*k_z - I*c42*k_y*k_z],\n",
       "[c2 - I*c20*k_z + c24*k_x**2 + c24*k_y**2 + c46*k_z**2,     -I*c11*k_x - c11*k_y + c38*k_x*k_z - I*c38*k_y*k_z,                                                0,      I*c35*k_x**2 - 2*c35*k_x*k_y - I*c35*k_y**2, -I*c21*k_z + c28*k_x**2 + c28*k_y**2 + c49*k_z**2 + c5,    -I*c15*k_x - c15*k_y + c40*k_x*k_z - I*c40*k_y*k_z,                                   -I*c17*k_x - c17*k_y,             c30*k_x**2 + c30*k_y**2 + c50*k_z**2 + c6, -I*c18*k_x + c18*k_y - c42*k_x*k_z - I*c42*k_y*k_z,         c31*k_x**2 - 2*I*c31*k_x*k_y - c31*k_y**2],\n",
       "[   -I*c12*k_x - c12*k_y + c39*k_x*k_z - I*c39*k_y*k_z,             -c25*k_x**2 + 2*I*c25*k_x*k_y + c25*k_y**2,     -I*c36*k_x**2 + 2*c36*k_x*k_y + I*c36*k_y**2, -I*c43*k_x*k_z + c43*k_y*k_z + c8*k_x + I*c8*k_y,     -I*c16*k_x - c16*k_y + c41*k_x*k_z - I*c41*k_y*k_z,            -c29*k_x**2 + 2*I*c29*k_x*k_y + c29*k_y**2,              c31*k_x**2 - 2*I*c31*k_x*k_y - c31*k_y**2,     I*c18*k_x + c18*k_y - c42*k_x*k_z + I*c42*k_y*k_z,          c32*k_x**2 + c32*k_y**2 + c51*k_z**2 + c7,                                                 0],\n",
       "[            c25*k_x**2 + 2*I*c25*k_x*k_y - c25*k_y**2,     -I*c12*k_x + c12*k_y + c39*k_x*k_z + I*c39*k_y*k_z, -I*c43*k_x*k_z - c43*k_y*k_z + c8*k_x - I*c8*k_y,      I*c36*k_x**2 + 2*c36*k_x*k_y - I*c36*k_y**2,              c29*k_x**2 + 2*I*c29*k_x*k_y - c29*k_y**2,    -I*c16*k_x + c16*k_y + c41*k_x*k_z + I*c41*k_y*k_z,     -I*c18*k_x + c18*k_y + c42*k_x*k_z + I*c42*k_y*k_z,             c31*k_x**2 + 2*I*c31*k_x*k_y - c31*k_y**2,                                                  0,         c32*k_x**2 + c32*k_y**2 + c51*k_z**2 + c7]])"
      ]
     },
     "metadata": {},
     "output_type": "display_data"
    }
   ],
   "source": [
    "# step 4: builds optimal model with qsymm\n",
    "# s0, sx, sy, sz: Pauli matrices\n",
    "from pydft2kp.constants import s0, sx, sy, sz\n",
    "from scipy.linalg import expm, block_diag, inv\n",
    "\n",
    "# build symmetry operations of C6v⁴ = [C6, Mx]\n",
    "# consider also T = time-reversal symmetry\n",
    "\n",
    "#######################################################\n",
    "# AUXILIARY FUNCTIONS TO BUILD THE SYMMETRY OPERATORS #\n",
    "#######################################################\n",
    "# spin rotation matrices, theta = 2pi/n\n",
    "spinR = lambda n, sj: expm(-1j*(2*np.pi/n/2)*sj)\n",
    "\n",
    "# ------------------------------------\n",
    "# Bands: G9c + G8c + G9v + G9v' + G7v'\n",
    "C6_G9c  = +spinR(6, sz) # S\n",
    "C6_G8c  = -spinR(6, sz) # B\n",
    "C6_G9v  = +spinR(6, sz) # Z\n",
    "C6_G9v1 = +spinR(6, -sz) # (X+iY,up) (X-iY,dw)\n",
    "C6_G7v1 = np.diag([-1j, 1j]) # (X-iY,up) (X+iY,dw)\n",
    "U = block_diag(C6_G9c, C6_G8c, C6_G9v, C6_G9v1, C6_G7v1)\n",
    "C6 = dft2kp.rotation(1/6, [0,0,1], U=U)\n",
    "\n",
    "Mx_G9c  = 1j*sx\n",
    "Mx_G8c  = 1j*sx # sign matters? B1 bs B2 from C6v\n",
    "Mx_G9v  = 1j*sx\n",
    "Mx_G9v1 = -1j*sx\n",
    "Mx_G7v1 = -1j*sx\n",
    "U = block_diag(Mx_G9c, Mx_G8c, Mx_G9v, Mx_G9v1, Mx_G7v1)\n",
    "Mx = dft2kp.mirror([1,0,0], U=U)\n",
    "\n",
    "T_G9c  = -1j*sy\n",
    "T_G8c  = -1j*sy\n",
    "T_G9v  = -1j*sy\n",
    "T_G9v1 = -1j*sy\n",
    "T_G7v1 = -1j*sy\n",
    "U = block_diag(T_G9c, T_G8c, T_G9v, T_G9v1, T_G7v1)\n",
    "TRS = dft2kp.time_reversal(3, U=U)\n",
    "# ------------------------------------\n",
    "\n",
    "symms = [C6, Mx, TRS]\n",
    "qs = dft2kp.qsymm(symms, dim=3, total_power=2);"
   ]
  },
  {
   "cell_type": "code",
   "execution_count": 7,
   "metadata": {},
   "outputs": [
    {
     "name": "stdout",
     "output_type": "stream",
     "text": [
      "52\n"
     ]
    }
   ],
   "source": [
    "# save symms and qs object\n",
    "with open('wurtzite.pickle', 'wb') as fp:\n",
    "  pickle.dump(symms, fp)\n",
    "  pickle.dump(qs, fp)\n",
    "\n",
    "print(len(qs.model))"
   ]
  },
  {
   "cell_type": "code",
   "execution_count": 8,
   "metadata": {},
   "outputs": [
    {
     "data": {
      "text/latex": [
       "$\\displaystyle \\left[\\begin{matrix}c_{0} + c_{22} k_{\\parallel}^2 + c_{44} k_{z}^{2} & i c_{9} k_{-} & 0 & c_{33} \\left(i k_{x}^{2} - 2 k_{x} k_{y} - i k_{y}^{2}\\right) & c_{1} + i c_{19} k_{z} + c_{23} k_{\\parallel}^2 + c_{45} k_{z}^{2} & k_{-} \\left(i c_{10} + c_{37} k_{z}\\right) & k_{-} \\left(i c_{11} + c_{38} k_{z}\\right) & c_{2} + i c_{20} k_{z} + c_{24} k_{\\parallel}^2 + c_{46} k_{z}^{2} & k_{+} \\left(i c_{12} + c_{39} k_{z}\\right) & c_{25} \\left(\\hat{K} - 2 i k_{x} k_{y}\\right)\\\\- i c_{9} k_{+} & c_{0} + c_{22} k_{\\parallel}^2 + c_{44} k_{z}^{2} & c_{33} \\left(i k_{x}^{2} + 2 k_{x} k_{y} - i k_{y}^{2}\\right) & 0 & - k_{+} \\left(i c_{10} + c_{37} k_{z}\\right) & c_{1} + i c_{19} k_{z} + c_{23} k_{\\parallel}^2 + c_{45} k_{z}^{2} & - c_{2} - i c_{20} k_{z} - c_{24} k_{\\parallel}^2 - c_{46} k_{z}^{2} & k_{+} \\left(i c_{11} + c_{38} k_{z}\\right) & - c_{25} \\left(\\hat{K} + 2 i k_{x} k_{y}\\right) & k_{-} \\left(i c_{12} + c_{39} k_{z}\\right)\\\\0 & c_{33} \\left(- i k_{x}^{2} + 2 k_{x} k_{y} + i k_{y}^{2}\\right) & c_{26} k_{\\parallel}^2 + c_{3} + c_{47} k_{z}^{2} & i c_{13} k_{-} & 0 & c_{34} \\left(i k_{x}^{2} - 2 k_{x} k_{y} - i k_{y}^{2}\\right) & c_{35} \\left(i k_{x}^{2} - 2 k_{x} k_{y} - i k_{y}^{2}\\right) & 0 & c_{36} \\left(i k_{x}^{2} + 2 k_{x} k_{y} - i k_{y}^{2}\\right) & k_{+} \\left(i c_{43} k_{z} + c_{8}\\right)\\\\c_{33} \\left(- i k_{x}^{2} - 2 k_{x} k_{y} + i k_{y}^{2}\\right) & 0 & - i c_{13} k_{+} & c_{26} k_{\\parallel}^2 + c_{3} + c_{47} k_{z}^{2} & c_{34} \\left(i k_{x}^{2} + 2 k_{x} k_{y} - i k_{y}^{2}\\right) & 0 & 0 & c_{35} \\left(- i k_{x}^{2} - 2 k_{x} k_{y} + i k_{y}^{2}\\right) & k_{-} \\left(i c_{43} k_{z} + c_{8}\\right) & c_{36} \\left(- i k_{x}^{2} + 2 k_{x} k_{y} + i k_{y}^{2}\\right)\\\\c_{1} - i c_{19} k_{z} + c_{23} k_{\\parallel}^2 + c_{45} k_{z}^{2} & k_{-} \\left(i c_{10} - c_{37} k_{z}\\right) & 0 & c_{34} \\left(- i k_{x}^{2} + 2 k_{x} k_{y} + i k_{y}^{2}\\right) & c_{27} k_{\\parallel}^2 + c_{4} + c_{48} k_{z}^{2} & i c_{14} k_{-} & k_{-} \\left(i c_{15} + c_{40} k_{z}\\right) & i c_{21} k_{z} + c_{28} k_{\\parallel}^2 + c_{49} k_{z}^{2} + c_{5} & k_{+} \\left(i c_{16} + c_{41} k_{z}\\right) & c_{29} \\left(\\hat{K} - 2 i k_{x} k_{y}\\right)\\\\k_{+} \\left(- i c_{10} + c_{37} k_{z}\\right) & c_{1} - i c_{19} k_{z} + c_{23} k_{\\parallel}^2 + c_{45} k_{z}^{2} & c_{34} \\left(- i k_{x}^{2} - 2 k_{x} k_{y} + i k_{y}^{2}\\right) & 0 & - i c_{14} k_{+} & c_{27} k_{\\parallel}^2 + c_{4} + c_{48} k_{z}^{2} & - i c_{21} k_{z} - c_{28} k_{\\parallel}^2 - c_{49} k_{z}^{2} - c_{5} & k_{+} \\left(i c_{15} + c_{40} k_{z}\\right) & - c_{29} \\left(\\hat{K} + 2 i k_{x} k_{y}\\right) & k_{-} \\left(i c_{16} + c_{41} k_{z}\\right)\\\\k_{+} \\left(- i c_{11} + c_{38} k_{z}\\right) & - c_{2} + i c_{20} k_{z} - c_{24} k_{\\parallel}^2 - c_{46} k_{z}^{2} & c_{35} \\left(- i k_{x}^{2} - 2 k_{x} k_{y} + i k_{y}^{2}\\right) & 0 & k_{+} \\left(- i c_{15} + c_{40} k_{z}\\right) & i c_{21} k_{z} - c_{28} k_{\\parallel}^2 - c_{49} k_{z}^{2} - c_{5} & c_{30} k_{\\parallel}^2 + c_{50} k_{z}^{2} + c_{6} & i c_{17} k_{+} & c_{31} \\left(\\hat{K} + 2 i k_{x} k_{y}\\right) & k_{-} \\left(i c_{18} + c_{42} k_{z}\\right)\\\\c_{2} - i c_{20} k_{z} + c_{24} k_{\\parallel}^2 + c_{46} k_{z}^{2} & k_{-} \\left(- i c_{11} + c_{38} k_{z}\\right) & 0 & c_{35} \\left(i k_{x}^{2} - 2 k_{x} k_{y} - i k_{y}^{2}\\right) & - i c_{21} k_{z} + c_{28} k_{\\parallel}^2 + c_{49} k_{z}^{2} + c_{5} & k_{-} \\left(- i c_{15} + c_{40} k_{z}\\right) & - i c_{17} k_{-} & c_{30} k_{\\parallel}^2 + c_{50} k_{z}^{2} + c_{6} & - k_{+} \\left(i c_{18} + c_{42} k_{z}\\right) & c_{31} \\left(\\hat{K} - 2 i k_{x} k_{y}\\right)\\\\k_{-} \\left(- i c_{12} + c_{39} k_{z}\\right) & c_{25} \\left(- \\hat{K} + 2 i k_{x} k_{y}\\right) & c_{36} \\left(- i k_{x}^{2} + 2 k_{x} k_{y} + i k_{y}^{2}\\right) & k_{+} \\left(- i c_{43} k_{z} + c_{8}\\right) & k_{-} \\left(- i c_{16} + c_{41} k_{z}\\right) & c_{29} \\left(- \\hat{K} + 2 i k_{x} k_{y}\\right) & c_{31} \\left(\\hat{K} - 2 i k_{x} k_{y}\\right) & k_{-} \\left(i c_{18} - c_{42} k_{z}\\right) & c_{32} k_{\\parallel}^2 + c_{51} k_{z}^{2} + c_{7} & 0\\\\c_{25} \\left(\\hat{K} + 2 i k_{x} k_{y}\\right) & k_{+} \\left(- i c_{12} + c_{39} k_{z}\\right) & k_{-} \\left(- i c_{43} k_{z} + c_{8}\\right) & c_{36} \\left(i k_{x}^{2} + 2 k_{x} k_{y} - i k_{y}^{2}\\right) & c_{29} \\left(\\hat{K} + 2 i k_{x} k_{y}\\right) & k_{+} \\left(- i c_{16} + c_{41} k_{z}\\right) & k_{+} \\left(- i c_{18} + c_{42} k_{z}\\right) & c_{31} \\left(\\hat{K} + 2 i k_{x} k_{y}\\right) & 0 & c_{32} k_{\\parallel}^2 + c_{51} k_{z}^{2} + c_{7}\\end{matrix}\\right]$"
      ],
      "text/plain": [
       "Matrix([\n",
       "[            c0 + c22*k_{\\parallel}^2 + c44*k_z**2,                                           I*c9*k_-,                                      0,  c33*(I*k_x**2 - 2*k_x*k_y - I*k_y**2),  c1 + I*c19*k_z + c23*k_{\\parallel}^2 + c45*k_z**2,                             k_-*(I*c10 + c37*k_z),                              k_-*(I*c11 + c38*k_z), c2 + I*c20*k_z + c24*k_{\\parallel}^2 + c46*k_z**2,                 k_+*(I*c12 + c39*k_z),            c25*(\\hat{K} - 2*I*k_x*k_y)],\n",
       "[                                        -I*c9*k_+,              c0 + c22*k_{\\parallel}^2 + c44*k_z**2,  c33*(I*k_x**2 + 2*k_x*k_y - I*k_y**2),                                      0,                             -k_+*(I*c10 + c37*k_z), c1 + I*c19*k_z + c23*k_{\\parallel}^2 + c45*k_z**2, -c2 - I*c20*k_z - c24*k_{\\parallel}^2 - c46*k_z**2,                             k_+*(I*c11 + c38*k_z),          -c25*(\\hat{K} + 2*I*k_x*k_y),                  k_-*(I*c12 + c39*k_z)],\n",
       "[                                                0,             c33*(-I*k_x**2 + 2*k_x*k_y + I*k_y**2),  c26*k_{\\parallel}^2 + c3 + c47*k_z**2,                              I*c13*k_-,                                                  0,             c34*(I*k_x**2 - 2*k_x*k_y - I*k_y**2),              c35*(I*k_x**2 - 2*k_x*k_y - I*k_y**2),                                                 0, c36*(I*k_x**2 + 2*k_x*k_y - I*k_y**2),                   k_+*(I*c43*k_z + c8)],\n",
       "[           c33*(-I*k_x**2 - 2*k_x*k_y + I*k_y**2),                                                  0,                             -I*c13*k_+,  c26*k_{\\parallel}^2 + c3 + c47*k_z**2,              c34*(I*k_x**2 + 2*k_x*k_y - I*k_y**2),                                                 0,                                                  0,            c35*(-I*k_x**2 - 2*k_x*k_y + I*k_y**2),                  k_-*(I*c43*k_z + c8), c36*(-I*k_x**2 + 2*k_x*k_y + I*k_y**2)],\n",
       "[c1 - I*c19*k_z + c23*k_{\\parallel}^2 + c45*k_z**2,                              k_-*(I*c10 - c37*k_z),                                      0, c34*(-I*k_x**2 + 2*k_x*k_y + I*k_y**2),              c27*k_{\\parallel}^2 + c4 + c48*k_z**2,                                         I*c14*k_-,                              k_-*(I*c15 + c40*k_z), I*c21*k_z + c28*k_{\\parallel}^2 + c49*k_z**2 + c5,                 k_+*(I*c16 + c41*k_z),            c29*(\\hat{K} - 2*I*k_x*k_y)],\n",
       "[                           k_+*(-I*c10 + c37*k_z),  c1 - I*c19*k_z + c23*k_{\\parallel}^2 + c45*k_z**2, c34*(-I*k_x**2 - 2*k_x*k_y + I*k_y**2),                                      0,                                         -I*c14*k_+,             c27*k_{\\parallel}^2 + c4 + c48*k_z**2, -I*c21*k_z - c28*k_{\\parallel}^2 - c49*k_z**2 - c5,                             k_+*(I*c15 + c40*k_z),          -c29*(\\hat{K} + 2*I*k_x*k_y),                  k_-*(I*c16 + c41*k_z)],\n",
       "[                           k_+*(-I*c11 + c38*k_z), -c2 + I*c20*k_z - c24*k_{\\parallel}^2 - c46*k_z**2, c35*(-I*k_x**2 - 2*k_x*k_y + I*k_y**2),                                      0,                             k_+*(-I*c15 + c40*k_z), I*c21*k_z - c28*k_{\\parallel}^2 - c49*k_z**2 - c5,              c30*k_{\\parallel}^2 + c50*k_z**2 + c6,                                         I*c17*k_+,           c31*(\\hat{K} + 2*I*k_x*k_y),                  k_-*(I*c18 + c42*k_z)],\n",
       "[c2 - I*c20*k_z + c24*k_{\\parallel}^2 + c46*k_z**2,                             k_-*(-I*c11 + c38*k_z),                                      0,  c35*(I*k_x**2 - 2*k_x*k_y - I*k_y**2), -I*c21*k_z + c28*k_{\\parallel}^2 + c49*k_z**2 + c5,                            k_-*(-I*c15 + c40*k_z),                                         -I*c17*k_-,             c30*k_{\\parallel}^2 + c50*k_z**2 + c6,                -k_+*(I*c18 + c42*k_z),            c31*(\\hat{K} - 2*I*k_x*k_y)],\n",
       "[                           k_-*(-I*c12 + c39*k_z),                       c25*(-\\hat{K} + 2*I*k_x*k_y), c36*(-I*k_x**2 + 2*k_x*k_y + I*k_y**2),                  k_+*(-I*c43*k_z + c8),                             k_-*(-I*c16 + c41*k_z),                      c29*(-\\hat{K} + 2*I*k_x*k_y),                        c31*(\\hat{K} - 2*I*k_x*k_y),                             k_-*(I*c18 - c42*k_z), c32*k_{\\parallel}^2 + c51*k_z**2 + c7,                                      0],\n",
       "[                      c25*(\\hat{K} + 2*I*k_x*k_y),                             k_+*(-I*c12 + c39*k_z),                  k_-*(-I*c43*k_z + c8),  c36*(I*k_x**2 + 2*k_x*k_y - I*k_y**2),                        c29*(\\hat{K} + 2*I*k_x*k_y),                            k_+*(-I*c16 + c41*k_z),                             k_+*(-I*c18 + c42*k_z),                       c31*(\\hat{K} + 2*I*k_x*k_y),                                     0,  c32*k_{\\parallel}^2 + c51*k_z**2 + c7]])"
      ]
     },
     "execution_count": 8,
     "metadata": {},
     "output_type": "execute_result"
    }
   ],
   "source": [
    "# print model in Latex format\n",
    "H = hamiltonian_from_family(qs.model, nsimplify=True)\n",
    "\n",
    "cs = sympy.symbols('c:52')\n",
    "kx, ky, kz = sympy.symbols('k_x, k_y, k_z')\n",
    "k2, kp, km = sympy.symbols('k^2, k_+, k_-')\n",
    "kxy2 = sympy.symbols('k_{\\parallel}^2') # = kx**2 + ky**2\n",
    "Kbig = sympy.symbols('\\hat{K}') # = kx**2 - ky**2\n",
    "# kp = kx+i.ky\n",
    "# km = kx-i.ky\n",
    "# kx = (kp+km)/2\n",
    "# ky = (kp-km)/2i\n",
    "\n",
    "H = H.applyfunc(lambda ij: sympy.collect(ij, cs))\n",
    "\n",
    "H = sympy.simplify(H)\n",
    "H = sympy.simplify(H.subs({kx**2 + ky**2 + kz**2: k2}))\n",
    "H = sympy.simplify(H.subs({kx**2 + ky**2: kxy2}))\n",
    "H = sympy.simplify(H.subs({kx+sympy.I*ky: kp, \n",
    "                           kx-sympy.I*ky: km,\n",
    "                           sympy.I*kx-ky: sympy.I*kp, \n",
    "                           sympy.I*kx+ky: sympy.I*km,\n",
    "                           }))\n",
    "\n",
    "H = sympy.simplify(H.subs({kx**2 - ky**2: Kbig}))\n",
    "\n",
    "H"
   ]
  },
  {
   "cell_type": "code",
   "execution_count": 9,
   "metadata": {},
   "outputs": [
    {
     "name": "stdout",
     "output_type": "stream",
     "text": [
      "\\left[\\begin{matrix}c_{0} + c_{22} k_{\\parallel}^2 + c_{44} k_{z}^{2} & i c_{9} k_{-} & 0 & c_{33} \\left(i k_{x}^{2} - 2 k_{x} k_{y} - i k_{y}^{2}\\right) & c_{1} + i c_{19} k_{z} + c_{23} k_{\\parallel}^2 + c_{45} k_{z}^{2} & k_{-} \\left(i c_{10} + c_{37} k_{z}\\right) & k_{-} \\left(i c_{11} + c_{38} k_{z}\\right) & c_{2} + i c_{20} k_{z} + c_{24} k_{\\parallel}^2 + c_{46} k_{z}^{2} & k_{+} \\left(i c_{12} + c_{39} k_{z}\\right) & c_{25} \\left(\\hat{K} - 2 i k_{x} k_{y}\\right)\\\\- i c_{9} k_{+} & c_{0} + c_{22} k_{\\parallel}^2 + c_{44} k_{z}^{2} & c_{33} \\left(i k_{x}^{2} + 2 k_{x} k_{y} - i k_{y}^{2}\\right) & 0 & - k_{+} \\left(i c_{10} + c_{37} k_{z}\\right) & c_{1} + i c_{19} k_{z} + c_{23} k_{\\parallel}^2 + c_{45} k_{z}^{2} & - c_{2} - i c_{20} k_{z} - c_{24} k_{\\parallel}^2 - c_{46} k_{z}^{2} & k_{+} \\left(i c_{11} + c_{38} k_{z}\\right) & - c_{25} \\left(\\hat{K} + 2 i k_{x} k_{y}\\right) & k_{-} \\left(i c_{12} + c_{39} k_{z}\\right)\\\\0 & c_{33} \\left(- i k_{x}^{2} + 2 k_{x} k_{y} + i k_{y}^{2}\\right) & c_{26} k_{\\parallel}^2 + c_{3} + c_{47} k_{z}^{2} & i c_{13} k_{-} & 0 & c_{34} \\left(i k_{x}^{2} - 2 k_{x} k_{y} - i k_{y}^{2}\\right) & c_{35} \\left(i k_{x}^{2} - 2 k_{x} k_{y} - i k_{y}^{2}\\right) & 0 & c_{36} \\left(i k_{x}^{2} + 2 k_{x} k_{y} - i k_{y}^{2}\\right) & k_{+} \\left(i c_{43} k_{z} + c_{8}\\right)\\\\c_{33} \\left(- i k_{x}^{2} - 2 k_{x} k_{y} + i k_{y}^{2}\\right) & 0 & - i c_{13} k_{+} & c_{26} k_{\\parallel}^2 + c_{3} + c_{47} k_{z}^{2} & c_{34} \\left(i k_{x}^{2} + 2 k_{x} k_{y} - i k_{y}^{2}\\right) & 0 & 0 & c_{35} \\left(- i k_{x}^{2} - 2 k_{x} k_{y} + i k_{y}^{2}\\right) & k_{-} \\left(i c_{43} k_{z} + c_{8}\\right) & c_{36} \\left(- i k_{x}^{2} + 2 k_{x} k_{y} + i k_{y}^{2}\\right)\\\\c_{1} - i c_{19} k_{z} + c_{23} k_{\\parallel}^2 + c_{45} k_{z}^{2} & k_{-} \\left(i c_{10} - c_{37} k_{z}\\right) & 0 & c_{34} \\left(- i k_{x}^{2} + 2 k_{x} k_{y} + i k_{y}^{2}\\right) & c_{27} k_{\\parallel}^2 + c_{4} + c_{48} k_{z}^{2} & i c_{14} k_{-} & k_{-} \\left(i c_{15} + c_{40} k_{z}\\right) & i c_{21} k_{z} + c_{28} k_{\\parallel}^2 + c_{49} k_{z}^{2} + c_{5} & k_{+} \\left(i c_{16} + c_{41} k_{z}\\right) & c_{29} \\left(\\hat{K} - 2 i k_{x} k_{y}\\right)\\\\k_{+} \\left(- i c_{10} + c_{37} k_{z}\\right) & c_{1} - i c_{19} k_{z} + c_{23} k_{\\parallel}^2 + c_{45} k_{z}^{2} & c_{34} \\left(- i k_{x}^{2} - 2 k_{x} k_{y} + i k_{y}^{2}\\right) & 0 & - i c_{14} k_{+} & c_{27} k_{\\parallel}^2 + c_{4} + c_{48} k_{z}^{2} & - i c_{21} k_{z} - c_{28} k_{\\parallel}^2 - c_{49} k_{z}^{2} - c_{5} & k_{+} \\left(i c_{15} + c_{40} k_{z}\\right) & - c_{29} \\left(\\hat{K} + 2 i k_{x} k_{y}\\right) & k_{-} \\left(i c_{16} + c_{41} k_{z}\\right)\\\\k_{+} \\left(- i c_{11} + c_{38} k_{z}\\right) & - c_{2} + i c_{20} k_{z} - c_{24} k_{\\parallel}^2 - c_{46} k_{z}^{2} & c_{35} \\left(- i k_{x}^{2} - 2 k_{x} k_{y} + i k_{y}^{2}\\right) & 0 & k_{+} \\left(- i c_{15} + c_{40} k_{z}\\right) & i c_{21} k_{z} - c_{28} k_{\\parallel}^2 - c_{49} k_{z}^{2} - c_{5} & c_{30} k_{\\parallel}^2 + c_{50} k_{z}^{2} + c_{6} & i c_{17} k_{+} & c_{31} \\left(\\hat{K} + 2 i k_{x} k_{y}\\right) & k_{-} \\left(i c_{18} + c_{42} k_{z}\\right)\\\\c_{2} - i c_{20} k_{z} + c_{24} k_{\\parallel}^2 + c_{46} k_{z}^{2} & k_{-} \\left(- i c_{11} + c_{38} k_{z}\\right) & 0 & c_{35} \\left(i k_{x}^{2} - 2 k_{x} k_{y} - i k_{y}^{2}\\right) & - i c_{21} k_{z} + c_{28} k_{\\parallel}^2 + c_{49} k_{z}^{2} + c_{5} & k_{-} \\left(- i c_{15} + c_{40} k_{z}\\right) & - i c_{17} k_{-} & c_{30} k_{\\parallel}^2 + c_{50} k_{z}^{2} + c_{6} & - k_{+} \\left(i c_{18} + c_{42} k_{z}\\right) & c_{31} \\left(\\hat{K} - 2 i k_{x} k_{y}\\right)\\\\k_{-} \\left(- i c_{12} + c_{39} k_{z}\\right) & c_{25} \\left(- \\hat{K} + 2 i k_{x} k_{y}\\right) & c_{36} \\left(- i k_{x}^{2} + 2 k_{x} k_{y} + i k_{y}^{2}\\right) & k_{+} \\left(- i c_{43} k_{z} + c_{8}\\right) & k_{-} \\left(- i c_{16} + c_{41} k_{z}\\right) & c_{29} \\left(- \\hat{K} + 2 i k_{x} k_{y}\\right) & c_{31} \\left(\\hat{K} - 2 i k_{x} k_{y}\\right) & k_{-} \\left(i c_{18} - c_{42} k_{z}\\right) & c_{32} k_{\\parallel}^2 + c_{51} k_{z}^{2} + c_{7} & 0\\\\c_{25} \\left(\\hat{K} + 2 i k_{x} k_{y}\\right) & k_{+} \\left(- i c_{12} + c_{39} k_{z}\\right) & k_{-} \\left(- i c_{43} k_{z} + c_{8}\\right) & c_{36} \\left(i k_{x}^{2} + 2 k_{x} k_{y} - i k_{y}^{2}\\right) & c_{29} \\left(\\hat{K} + 2 i k_{x} k_{y}\\right) & k_{+} \\left(- i c_{16} + c_{41} k_{z}\\right) & k_{+} \\left(- i c_{18} + c_{42} k_{z}\\right) & c_{31} \\left(\\hat{K} + 2 i k_{x} k_{y}\\right) & 0 & c_{32} k_{\\parallel}^2 + c_{51} k_{z}^{2} + c_{7}\\end{matrix}\\right]\n"
     ]
    }
   ],
   "source": [
    "print(sympy.latex(H))"
   ]
  },
  {
   "cell_type": "markdown",
   "metadata": {},
   "source": [
    "# Model H8\n",
    "\n",
    "- Valence = G9+G9+G7\n",
    "- Conduction = G8\n",
    "- H is 8x8"
   ]
  },
  {
   "cell_type": "code",
   "execution_count": 10,
   "metadata": {},
   "outputs": [
    {
     "data": {
      "text/latex": [
       "$\\displaystyle \\left[\\begin{matrix}c_{0} + c_{13} k_{x}^{2} + c_{13} k_{y}^{2} + c_{27} k_{z}^{2} & i c_{6} k_{x} + c_{6} k_{y} & 0 & i c_{20} k_{x}^{2} - 2 c_{20} k_{x} k_{y} - i c_{20} k_{y}^{2} & i c_{21} k_{x}^{2} - 2 c_{21} k_{x} k_{y} - i c_{21} k_{y}^{2} & 0 & i c_{22} k_{x}^{2} + 2 c_{22} k_{x} k_{y} - i c_{22} k_{y}^{2} & i c_{26} k_{x} k_{z} - c_{26} k_{y} k_{z} + c_{5} k_{x} + i c_{5} k_{y}\\\\- i c_{6} k_{x} + c_{6} k_{y} & c_{0} + c_{13} k_{x}^{2} + c_{13} k_{y}^{2} + c_{27} k_{z}^{2} & i c_{20} k_{x}^{2} + 2 c_{20} k_{x} k_{y} - i c_{20} k_{y}^{2} & 0 & 0 & - i c_{21} k_{x}^{2} - 2 c_{21} k_{x} k_{y} + i c_{21} k_{y}^{2} & i c_{26} k_{x} k_{z} + c_{26} k_{y} k_{z} + c_{5} k_{x} - i c_{5} k_{y} & - i c_{22} k_{x}^{2} + 2 c_{22} k_{x} k_{y} + i c_{22} k_{y}^{2}\\\\0 & - i c_{20} k_{x}^{2} + 2 c_{20} k_{x} k_{y} + i c_{20} k_{y}^{2} & c_{1} + c_{14} k_{x}^{2} + c_{14} k_{y}^{2} + c_{28} k_{z}^{2} & i c_{7} k_{x} + c_{7} k_{y} & c_{23} k_{x} k_{z} - i c_{23} k_{y} k_{z} + i c_{8} k_{x} + c_{8} k_{y} & i c_{12} k_{z} + c_{15} k_{x}^{2} + c_{15} k_{y}^{2} + c_{2} + c_{29} k_{z}^{2} & c_{24} k_{x} k_{z} + i c_{24} k_{y} k_{z} + i c_{9} k_{x} - c_{9} k_{y} & c_{16} k_{x}^{2} - 2 i c_{16} k_{x} k_{y} - c_{16} k_{y}^{2}\\\\- i c_{20} k_{x}^{2} - 2 c_{20} k_{x} k_{y} + i c_{20} k_{y}^{2} & 0 & - i c_{7} k_{x} + c_{7} k_{y} & c_{1} + c_{14} k_{x}^{2} + c_{14} k_{y}^{2} + c_{28} k_{z}^{2} & - i c_{12} k_{z} - c_{15} k_{x}^{2} - c_{15} k_{y}^{2} - c_{2} - c_{29} k_{z}^{2} & c_{23} k_{x} k_{z} + i c_{23} k_{y} k_{z} + i c_{8} k_{x} - c_{8} k_{y} & - c_{16} k_{x}^{2} - 2 i c_{16} k_{x} k_{y} + c_{16} k_{y}^{2} & c_{24} k_{x} k_{z} - i c_{24} k_{y} k_{z} + i c_{9} k_{x} + c_{9} k_{y}\\\\- i c_{21} k_{x}^{2} - 2 c_{21} k_{x} k_{y} + i c_{21} k_{y}^{2} & 0 & c_{23} k_{x} k_{z} + i c_{23} k_{y} k_{z} - i c_{8} k_{x} + c_{8} k_{y} & i c_{12} k_{z} - c_{15} k_{x}^{2} - c_{15} k_{y}^{2} - c_{2} - c_{29} k_{z}^{2} & c_{17} k_{x}^{2} + c_{17} k_{y}^{2} + c_{3} + c_{30} k_{z}^{2} & i c_{10} k_{x} - c_{10} k_{y} & c_{18} k_{x}^{2} + 2 i c_{18} k_{x} k_{y} - c_{18} k_{y}^{2} & i c_{11} k_{x} + c_{11} k_{y} + c_{25} k_{x} k_{z} - i c_{25} k_{y} k_{z}\\\\0 & i c_{21} k_{x}^{2} - 2 c_{21} k_{x} k_{y} - i c_{21} k_{y}^{2} & - i c_{12} k_{z} + c_{15} k_{x}^{2} + c_{15} k_{y}^{2} + c_{2} + c_{29} k_{z}^{2} & c_{23} k_{x} k_{z} - i c_{23} k_{y} k_{z} - i c_{8} k_{x} - c_{8} k_{y} & - i c_{10} k_{x} - c_{10} k_{y} & c_{17} k_{x}^{2} + c_{17} k_{y}^{2} + c_{3} + c_{30} k_{z}^{2} & - i c_{11} k_{x} + c_{11} k_{y} - c_{25} k_{x} k_{z} - i c_{25} k_{y} k_{z} & c_{18} k_{x}^{2} - 2 i c_{18} k_{x} k_{y} - c_{18} k_{y}^{2}\\\\- i c_{22} k_{x}^{2} + 2 c_{22} k_{x} k_{y} + i c_{22} k_{y}^{2} & - i c_{26} k_{x} k_{z} + c_{26} k_{y} k_{z} + c_{5} k_{x} + i c_{5} k_{y} & c_{24} k_{x} k_{z} - i c_{24} k_{y} k_{z} - i c_{9} k_{x} - c_{9} k_{y} & - c_{16} k_{x}^{2} + 2 i c_{16} k_{x} k_{y} + c_{16} k_{y}^{2} & c_{18} k_{x}^{2} - 2 i c_{18} k_{x} k_{y} - c_{18} k_{y}^{2} & i c_{11} k_{x} + c_{11} k_{y} - c_{25} k_{x} k_{z} + i c_{25} k_{y} k_{z} & c_{19} k_{x}^{2} + c_{19} k_{y}^{2} + c_{31} k_{z}^{2} + c_{4} & 0\\\\- i c_{26} k_{x} k_{z} - c_{26} k_{y} k_{z} + c_{5} k_{x} - i c_{5} k_{y} & i c_{22} k_{x}^{2} + 2 c_{22} k_{x} k_{y} - i c_{22} k_{y}^{2} & c_{16} k_{x}^{2} + 2 i c_{16} k_{x} k_{y} - c_{16} k_{y}^{2} & c_{24} k_{x} k_{z} + i c_{24} k_{y} k_{z} - i c_{9} k_{x} + c_{9} k_{y} & - i c_{11} k_{x} + c_{11} k_{y} + c_{25} k_{x} k_{z} + i c_{25} k_{y} k_{z} & c_{18} k_{x}^{2} + 2 i c_{18} k_{x} k_{y} - c_{18} k_{y}^{2} & 0 & c_{19} k_{x}^{2} + c_{19} k_{y}^{2} + c_{31} k_{z}^{2} + c_{4}\\end{matrix}\\right]$"
      ],
      "text/plain": [
       "Matrix([\n",
       "[       c0 + c13*k_x**2 + c13*k_y**2 + c27*k_z**2,                                I*c6*k_x + c6*k_y,                                                      0,           I*c20*k_x**2 - 2*c20*k_x*k_y - I*c20*k_y**2,            I*c21*k_x**2 - 2*c21*k_x*k_y - I*c21*k_y**2,                                                     0,        I*c22*k_x**2 + 2*c22*k_x*k_y - I*c22*k_y**2,   I*c26*k_x*k_z - c26*k_y*k_z + c5*k_x + I*c5*k_y],\n",
       "[                              -I*c6*k_x + c6*k_y,        c0 + c13*k_x**2 + c13*k_y**2 + c27*k_z**2,            I*c20*k_x**2 + 2*c20*k_x*k_y - I*c20*k_y**2,                                                     0,                                                      0,          -I*c21*k_x**2 - 2*c21*k_x*k_y + I*c21*k_y**2,    I*c26*k_x*k_z + c26*k_y*k_z + c5*k_x - I*c5*k_y,      -I*c22*k_x**2 + 2*c22*k_x*k_y + I*c22*k_y**2],\n",
       "[                                               0,     -I*c20*k_x**2 + 2*c20*k_x*k_y + I*c20*k_y**2,              c1 + c14*k_x**2 + c14*k_y**2 + c28*k_z**2,                                     I*c7*k_x + c7*k_y,        c23*k_x*k_z - I*c23*k_y*k_z + I*c8*k_x + c8*k_y, I*c12*k_z + c15*k_x**2 + c15*k_y**2 + c2 + c29*k_z**2,    c24*k_x*k_z + I*c24*k_y*k_z + I*c9*k_x - c9*k_y,         c16*k_x**2 - 2*I*c16*k_x*k_y - c16*k_y**2],\n",
       "[    -I*c20*k_x**2 - 2*c20*k_x*k_y + I*c20*k_y**2,                                                0,                                     -I*c7*k_x + c7*k_y,             c1 + c14*k_x**2 + c14*k_y**2 + c28*k_z**2, -I*c12*k_z - c15*k_x**2 - c15*k_y**2 - c2 - c29*k_z**2,       c23*k_x*k_z + I*c23*k_y*k_z + I*c8*k_x - c8*k_y,         -c16*k_x**2 - 2*I*c16*k_x*k_y + c16*k_y**2,   c24*k_x*k_z - I*c24*k_y*k_z + I*c9*k_x + c9*k_y],\n",
       "[    -I*c21*k_x**2 - 2*c21*k_x*k_y + I*c21*k_y**2,                                                0,        c23*k_x*k_z + I*c23*k_y*k_z - I*c8*k_x + c8*k_y, I*c12*k_z - c15*k_x**2 - c15*k_y**2 - c2 - c29*k_z**2,              c17*k_x**2 + c17*k_y**2 + c3 + c30*k_z**2,                                   I*c10*k_x - c10*k_y,          c18*k_x**2 + 2*I*c18*k_x*k_y - c18*k_y**2, I*c11*k_x + c11*k_y + c25*k_x*k_z - I*c25*k_y*k_z],\n",
       "[                                               0,      I*c21*k_x**2 - 2*c21*k_x*k_y - I*c21*k_y**2, -I*c12*k_z + c15*k_x**2 + c15*k_y**2 + c2 + c29*k_z**2,       c23*k_x*k_z - I*c23*k_y*k_z - I*c8*k_x - c8*k_y,                                   -I*c10*k_x - c10*k_y,             c17*k_x**2 + c17*k_y**2 + c3 + c30*k_z**2, -I*c11*k_x + c11*k_y - c25*k_x*k_z - I*c25*k_y*k_z,         c18*k_x**2 - 2*I*c18*k_x*k_y - c18*k_y**2],\n",
       "[    -I*c22*k_x**2 + 2*c22*k_x*k_y + I*c22*k_y**2, -I*c26*k_x*k_z + c26*k_y*k_z + c5*k_x + I*c5*k_y,        c24*k_x*k_z - I*c24*k_y*k_z - I*c9*k_x - c9*k_y,            -c16*k_x**2 + 2*I*c16*k_x*k_y + c16*k_y**2,              c18*k_x**2 - 2*I*c18*k_x*k_y - c18*k_y**2,     I*c11*k_x + c11*k_y - c25*k_x*k_z + I*c25*k_y*k_z,          c19*k_x**2 + c19*k_y**2 + c31*k_z**2 + c4,                                                 0],\n",
       "[-I*c26*k_x*k_z - c26*k_y*k_z + c5*k_x - I*c5*k_y,      I*c22*k_x**2 + 2*c22*k_x*k_y - I*c22*k_y**2,              c16*k_x**2 + 2*I*c16*k_x*k_y - c16*k_y**2,       c24*k_x*k_z + I*c24*k_y*k_z - I*c9*k_x + c9*k_y,     -I*c11*k_x + c11*k_y + c25*k_x*k_z + I*c25*k_y*k_z,             c18*k_x**2 + 2*I*c18*k_x*k_y - c18*k_y**2,                                                  0,         c19*k_x**2 + c19*k_y**2 + c31*k_z**2 + c4]])"
      ]
     },
     "metadata": {},
     "output_type": "display_data"
    }
   ],
   "source": [
    "U = block_diag(C6_G8c, C6_G9v, C6_G9v1, C6_G7v1)\n",
    "C6 = dft2kp.rotation(1/6, [0,0,1], U=U)\n",
    "\n",
    "U = block_diag(Mx_G8c, Mx_G9v, Mx_G9v1, Mx_G7v1)\n",
    "Mx = dft2kp.mirror([1,0,0], U=U)\n",
    "\n",
    "U = block_diag(T_G8c, T_G9v, T_G9v1, T_G7v1)\n",
    "TRS = dft2kp.time_reversal(3, U=U)\n",
    "# ------------------------------------\n",
    "\n",
    "symms = [C6, Mx, TRS]\n",
    "qs = dft2kp.qsymm(symms, dim=3, total_power=2);"
   ]
  },
  {
   "cell_type": "code",
   "execution_count": 11,
   "metadata": {},
   "outputs": [
    {
     "name": "stdout",
     "output_type": "stream",
     "text": [
      "32\n"
     ]
    }
   ],
   "source": [
    "# save symms and qs object\n",
    "with open('wurtzite8.pickle', 'wb') as fp:\n",
    "  pickle.dump(symms, fp)\n",
    "  pickle.dump(qs, fp)\n",
    "print(len(qs.model))"
   ]
  },
  {
   "cell_type": "code",
   "execution_count": 12,
   "metadata": {},
   "outputs": [
    {
     "data": {
      "text/latex": [
       "$\\displaystyle \\left[\\begin{matrix}c_{0} + c_{13} k_{\\parallel}^2 + c_{27} k_{z}^{2} & i c_{6} k_{-} & 0 & c_{20} \\left(i k_{x}^{2} - 2 k_{x} k_{y} - i k_{y}^{2}\\right) & c_{21} \\left(i k_{x}^{2} - 2 k_{x} k_{y} - i k_{y}^{2}\\right) & 0 & c_{22} \\left(i k_{x}^{2} + 2 k_{x} k_{y} - i k_{y}^{2}\\right) & k_{+} \\left(i c_{26} k_{z} + c_{5}\\right)\\\\- i c_{6} k_{+} & c_{0} + c_{13} k_{\\parallel}^2 + c_{27} k_{z}^{2} & c_{20} \\left(i k_{x}^{2} + 2 k_{x} k_{y} - i k_{y}^{2}\\right) & 0 & 0 & c_{21} \\left(- i k_{x}^{2} - 2 k_{x} k_{y} + i k_{y}^{2}\\right) & k_{-} \\left(i c_{26} k_{z} + c_{5}\\right) & c_{22} \\left(- i k_{x}^{2} + 2 k_{x} k_{y} + i k_{y}^{2}\\right)\\\\0 & c_{20} \\left(- i k_{x}^{2} + 2 k_{x} k_{y} + i k_{y}^{2}\\right) & c_{1} + c_{14} k_{\\parallel}^2 + c_{28} k_{z}^{2} & i c_{7} k_{-} & k_{-} \\left(c_{23} k_{z} + i c_{8}\\right) & i c_{12} k_{z} + c_{15} k_{\\parallel}^2 + c_{2} + c_{29} k_{z}^{2} & k_{+} \\left(c_{24} k_{z} + i c_{9}\\right) & c_{16} \\left(\\hat{K} - 2 i k_{x} k_{y}\\right)\\\\c_{20} \\left(- i k_{x}^{2} - 2 k_{x} k_{y} + i k_{y}^{2}\\right) & 0 & - i c_{7} k_{+} & c_{1} + c_{14} k_{\\parallel}^2 + c_{28} k_{z}^{2} & - i c_{12} k_{z} - c_{15} k_{\\parallel}^2 - c_{2} - c_{29} k_{z}^{2} & k_{+} \\left(c_{23} k_{z} + i c_{8}\\right) & - c_{16} \\left(\\hat{K} + 2 i k_{x} k_{y}\\right) & k_{-} \\left(c_{24} k_{z} + i c_{9}\\right)\\\\c_{21} \\left(- i k_{x}^{2} - 2 k_{x} k_{y} + i k_{y}^{2}\\right) & 0 & k_{+} \\left(c_{23} k_{z} - i c_{8}\\right) & i c_{12} k_{z} - c_{15} k_{\\parallel}^2 - c_{2} - c_{29} k_{z}^{2} & c_{17} k_{\\parallel}^2 + c_{3} + c_{30} k_{z}^{2} & i c_{10} k_{+} & c_{18} \\left(\\hat{K} + 2 i k_{x} k_{y}\\right) & k_{-} \\left(i c_{11} + c_{25} k_{z}\\right)\\\\0 & c_{21} \\left(i k_{x}^{2} - 2 k_{x} k_{y} - i k_{y}^{2}\\right) & - i c_{12} k_{z} + c_{15} k_{\\parallel}^2 + c_{2} + c_{29} k_{z}^{2} & k_{-} \\left(c_{23} k_{z} - i c_{8}\\right) & - i c_{10} k_{-} & c_{17} k_{\\parallel}^2 + c_{3} + c_{30} k_{z}^{2} & - k_{+} \\left(i c_{11} + c_{25} k_{z}\\right) & c_{18} \\left(\\hat{K} - 2 i k_{x} k_{y}\\right)\\\\c_{22} \\left(- i k_{x}^{2} + 2 k_{x} k_{y} + i k_{y}^{2}\\right) & k_{+} \\left(- i c_{26} k_{z} + c_{5}\\right) & k_{-} \\left(c_{24} k_{z} - i c_{9}\\right) & c_{16} \\left(- \\hat{K} + 2 i k_{x} k_{y}\\right) & c_{18} \\left(\\hat{K} - 2 i k_{x} k_{y}\\right) & k_{-} \\left(i c_{11} - c_{25} k_{z}\\right) & c_{19} k_{\\parallel}^2 + c_{31} k_{z}^{2} + c_{4} & 0\\\\k_{-} \\left(- i c_{26} k_{z} + c_{5}\\right) & c_{22} \\left(i k_{x}^{2} + 2 k_{x} k_{y} - i k_{y}^{2}\\right) & c_{16} \\left(\\hat{K} + 2 i k_{x} k_{y}\\right) & k_{+} \\left(c_{24} k_{z} - i c_{9}\\right) & k_{+} \\left(- i c_{11} + c_{25} k_{z}\\right) & c_{18} \\left(\\hat{K} + 2 i k_{x} k_{y}\\right) & 0 & c_{19} k_{\\parallel}^2 + c_{31} k_{z}^{2} + c_{4}\\end{matrix}\\right]$"
      ],
      "text/plain": [
       "Matrix([\n",
       "[ c0 + c13*k_{\\parallel}^2 + c27*k_z**2,                               I*c6*k_-,                                                  0,             c20*(I*k_x**2 - 2*k_x*k_y - I*k_y**2),              c21*(I*k_x**2 - 2*k_x*k_y - I*k_y**2),                                                 0, c22*(I*k_x**2 + 2*k_x*k_y - I*k_y**2),                   k_+*(I*c26*k_z + c5)],\n",
       "[                             -I*c6*k_+,  c0 + c13*k_{\\parallel}^2 + c27*k_z**2,              c20*(I*k_x**2 + 2*k_x*k_y - I*k_y**2),                                                 0,                                                  0,            c21*(-I*k_x**2 - 2*k_x*k_y + I*k_y**2),                  k_-*(I*c26*k_z + c5), c22*(-I*k_x**2 + 2*k_x*k_y + I*k_y**2)],\n",
       "[                                     0, c20*(-I*k_x**2 + 2*k_x*k_y + I*k_y**2),              c1 + c14*k_{\\parallel}^2 + c28*k_z**2,                                          I*c7*k_-,                               k_-*(c23*k_z + I*c8), I*c12*k_z + c15*k_{\\parallel}^2 + c2 + c29*k_z**2,                  k_+*(c24*k_z + I*c9),            c16*(\\hat{K} - 2*I*k_x*k_y)],\n",
       "[c20*(-I*k_x**2 - 2*k_x*k_y + I*k_y**2),                                      0,                                          -I*c7*k_+,             c1 + c14*k_{\\parallel}^2 + c28*k_z**2, -I*c12*k_z - c15*k_{\\parallel}^2 - c2 - c29*k_z**2,                              k_+*(c23*k_z + I*c8),          -c16*(\\hat{K} + 2*I*k_x*k_y),                   k_-*(c24*k_z + I*c9)],\n",
       "[c21*(-I*k_x**2 - 2*k_x*k_y + I*k_y**2),                                      0,                               k_+*(c23*k_z - I*c8), I*c12*k_z - c15*k_{\\parallel}^2 - c2 - c29*k_z**2,              c17*k_{\\parallel}^2 + c3 + c30*k_z**2,                                         I*c10*k_+,           c18*(\\hat{K} + 2*I*k_x*k_y),                  k_-*(I*c11 + c25*k_z)],\n",
       "[                                     0,  c21*(I*k_x**2 - 2*k_x*k_y - I*k_y**2), -I*c12*k_z + c15*k_{\\parallel}^2 + c2 + c29*k_z**2,                              k_-*(c23*k_z - I*c8),                                         -I*c10*k_-,             c17*k_{\\parallel}^2 + c3 + c30*k_z**2,                -k_+*(I*c11 + c25*k_z),            c18*(\\hat{K} - 2*I*k_x*k_y)],\n",
       "[c22*(-I*k_x**2 + 2*k_x*k_y + I*k_y**2),                  k_+*(-I*c26*k_z + c5),                               k_-*(c24*k_z - I*c9),                      c16*(-\\hat{K} + 2*I*k_x*k_y),                        c18*(\\hat{K} - 2*I*k_x*k_y),                             k_-*(I*c11 - c25*k_z), c19*k_{\\parallel}^2 + c31*k_z**2 + c4,                                      0],\n",
       "[                 k_-*(-I*c26*k_z + c5),  c22*(I*k_x**2 + 2*k_x*k_y - I*k_y**2),                        c16*(\\hat{K} + 2*I*k_x*k_y),                              k_+*(c24*k_z - I*c9),                             k_+*(-I*c11 + c25*k_z),                       c18*(\\hat{K} + 2*I*k_x*k_y),                                     0,  c19*k_{\\parallel}^2 + c31*k_z**2 + c4]])"
      ]
     },
     "execution_count": 12,
     "metadata": {},
     "output_type": "execute_result"
    }
   ],
   "source": [
    "# print model in Latex format\n",
    "H = hamiltonian_from_family(qs.model, nsimplify=True)\n",
    "\n",
    "cs = sympy.symbols('c:32')\n",
    "kx, ky, kz = sympy.symbols('k_x, k_y, k_z')\n",
    "k2, kp, km = sympy.symbols('k^2, k_+, k_-')\n",
    "kxy2 = sympy.symbols('k_{\\parallel}^2') # = kx**2 + ky**2\n",
    "Kbig = sympy.symbols('\\hat{K}') # = kx**2 - ky**2\n",
    "# kp = kx+i.ky\n",
    "# km = kx-i.ky\n",
    "# kx = (kp+km)/2\n",
    "# ky = (kp-km)/2i\n",
    "\n",
    "H = H.applyfunc(lambda ij: sympy.collect(ij, cs))\n",
    "\n",
    "H = sympy.simplify(H)\n",
    "H = sympy.simplify(H.subs({kx**2 + ky**2 + kz**2: k2}))\n",
    "H = sympy.simplify(H.subs({kx**2 + ky**2: kxy2}))\n",
    "H = sympy.simplify(H.subs({kx+sympy.I*ky: kp, \n",
    "                           kx-sympy.I*ky: km,\n",
    "                           sympy.I*kx-ky: sympy.I*kp, \n",
    "                           sympy.I*kx+ky: sympy.I*km,\n",
    "                           }))\n",
    "\n",
    "H = sympy.simplify(H.subs({kx**2 - ky**2: Kbig}))\n",
    "\n",
    "H"
   ]
  },
  {
   "cell_type": "code",
   "execution_count": 13,
   "metadata": {},
   "outputs": [
    {
     "name": "stdout",
     "output_type": "stream",
     "text": [
      "\\left[\\begin{matrix}c_{0} + c_{13} k_{\\parallel}^2 + c_{27} k_{z}^{2} & i c_{6} k_{-} & 0 & c_{20} \\left(i k_{x}^{2} - 2 k_{x} k_{y} - i k_{y}^{2}\\right) & c_{21} \\left(i k_{x}^{2} - 2 k_{x} k_{y} - i k_{y}^{2}\\right) & 0 & c_{22} \\left(i k_{x}^{2} + 2 k_{x} k_{y} - i k_{y}^{2}\\right) & k_{+} \\left(i c_{26} k_{z} + c_{5}\\right)\\\\- i c_{6} k_{+} & c_{0} + c_{13} k_{\\parallel}^2 + c_{27} k_{z}^{2} & c_{20} \\left(i k_{x}^{2} + 2 k_{x} k_{y} - i k_{y}^{2}\\right) & 0 & 0 & c_{21} \\left(- i k_{x}^{2} - 2 k_{x} k_{y} + i k_{y}^{2}\\right) & k_{-} \\left(i c_{26} k_{z} + c_{5}\\right) & c_{22} \\left(- i k_{x}^{2} + 2 k_{x} k_{y} + i k_{y}^{2}\\right)\\\\0 & c_{20} \\left(- i k_{x}^{2} + 2 k_{x} k_{y} + i k_{y}^{2}\\right) & c_{1} + c_{14} k_{\\parallel}^2 + c_{28} k_{z}^{2} & i c_{7} k_{-} & k_{-} \\left(c_{23} k_{z} + i c_{8}\\right) & i c_{12} k_{z} + c_{15} k_{\\parallel}^2 + c_{2} + c_{29} k_{z}^{2} & k_{+} \\left(c_{24} k_{z} + i c_{9}\\right) & c_{16} \\left(\\hat{K} - 2 i k_{x} k_{y}\\right)\\\\c_{20} \\left(- i k_{x}^{2} - 2 k_{x} k_{y} + i k_{y}^{2}\\right) & 0 & - i c_{7} k_{+} & c_{1} + c_{14} k_{\\parallel}^2 + c_{28} k_{z}^{2} & - i c_{12} k_{z} - c_{15} k_{\\parallel}^2 - c_{2} - c_{29} k_{z}^{2} & k_{+} \\left(c_{23} k_{z} + i c_{8}\\right) & - c_{16} \\left(\\hat{K} + 2 i k_{x} k_{y}\\right) & k_{-} \\left(c_{24} k_{z} + i c_{9}\\right)\\\\c_{21} \\left(- i k_{x}^{2} - 2 k_{x} k_{y} + i k_{y}^{2}\\right) & 0 & k_{+} \\left(c_{23} k_{z} - i c_{8}\\right) & i c_{12} k_{z} - c_{15} k_{\\parallel}^2 - c_{2} - c_{29} k_{z}^{2} & c_{17} k_{\\parallel}^2 + c_{3} + c_{30} k_{z}^{2} & i c_{10} k_{+} & c_{18} \\left(\\hat{K} + 2 i k_{x} k_{y}\\right) & k_{-} \\left(i c_{11} + c_{25} k_{z}\\right)\\\\0 & c_{21} \\left(i k_{x}^{2} - 2 k_{x} k_{y} - i k_{y}^{2}\\right) & - i c_{12} k_{z} + c_{15} k_{\\parallel}^2 + c_{2} + c_{29} k_{z}^{2} & k_{-} \\left(c_{23} k_{z} - i c_{8}\\right) & - i c_{10} k_{-} & c_{17} k_{\\parallel}^2 + c_{3} + c_{30} k_{z}^{2} & - k_{+} \\left(i c_{11} + c_{25} k_{z}\\right) & c_{18} \\left(\\hat{K} - 2 i k_{x} k_{y}\\right)\\\\c_{22} \\left(- i k_{x}^{2} + 2 k_{x} k_{y} + i k_{y}^{2}\\right) & k_{+} \\left(- i c_{26} k_{z} + c_{5}\\right) & k_{-} \\left(c_{24} k_{z} - i c_{9}\\right) & c_{16} \\left(- \\hat{K} + 2 i k_{x} k_{y}\\right) & c_{18} \\left(\\hat{K} - 2 i k_{x} k_{y}\\right) & k_{-} \\left(i c_{11} - c_{25} k_{z}\\right) & c_{19} k_{\\parallel}^2 + c_{31} k_{z}^{2} + c_{4} & 0\\\\k_{-} \\left(- i c_{26} k_{z} + c_{5}\\right) & c_{22} \\left(i k_{x}^{2} + 2 k_{x} k_{y} - i k_{y}^{2}\\right) & c_{16} \\left(\\hat{K} + 2 i k_{x} k_{y}\\right) & k_{+} \\left(c_{24} k_{z} - i c_{9}\\right) & k_{+} \\left(- i c_{11} + c_{25} k_{z}\\right) & c_{18} \\left(\\hat{K} + 2 i k_{x} k_{y}\\right) & 0 & c_{19} k_{\\parallel}^2 + c_{31} k_{z}^{2} + c_{4}\\end{matrix}\\right]\n"
     ]
    }
   ],
   "source": [
    "print(sympy.latex(H))"
   ]
  },
  {
   "cell_type": "markdown",
   "metadata": {},
   "source": [
    "# Model H9\n",
    "\n",
    "- Valence = G9+G9+G7\n",
    "- Conduction = G9\n",
    "- H is 8x8"
   ]
  },
  {
   "cell_type": "code",
   "execution_count": 14,
   "metadata": {},
   "outputs": [
    {
     "data": {
      "text/latex": [
       "$\\displaystyle \\left[\\begin{matrix}c_{0} + c_{19} k_{x}^{2} + c_{19} k_{y}^{2} + c_{35} k_{z}^{2} & i c_{7} k_{x} + c_{7} k_{y} & c_{1} + i c_{16} k_{z} + c_{20} k_{x}^{2} + c_{20} k_{y}^{2} + c_{36} k_{z}^{2} & c_{29} k_{x} k_{z} - i c_{29} k_{y} k_{z} + i c_{8} k_{x} + c_{8} k_{y} & c_{30} k_{x} k_{z} - i c_{30} k_{y} k_{z} + i c_{9} k_{x} + c_{9} k_{y} & i c_{17} k_{z} + c_{2} + c_{21} k_{x}^{2} + c_{21} k_{y}^{2} + c_{37} k_{z}^{2} & i c_{10} k_{x} - c_{10} k_{y} + c_{31} k_{x} k_{z} + i c_{31} k_{y} k_{z} & c_{22} k_{x}^{2} - 2 i c_{22} k_{x} k_{y} - c_{22} k_{y}^{2}\\\\- i c_{7} k_{x} + c_{7} k_{y} & c_{0} + c_{19} k_{x}^{2} + c_{19} k_{y}^{2} + c_{35} k_{z}^{2} & - c_{29} k_{x} k_{z} - i c_{29} k_{y} k_{z} - i c_{8} k_{x} + c_{8} k_{y} & c_{1} + i c_{16} k_{z} + c_{20} k_{x}^{2} + c_{20} k_{y}^{2} + c_{36} k_{z}^{2} & - i c_{17} k_{z} - c_{2} - c_{21} k_{x}^{2} - c_{21} k_{y}^{2} - c_{37} k_{z}^{2} & c_{30} k_{x} k_{z} + i c_{30} k_{y} k_{z} + i c_{9} k_{x} - c_{9} k_{y} & - c_{22} k_{x}^{2} - 2 i c_{22} k_{x} k_{y} + c_{22} k_{y}^{2} & i c_{10} k_{x} + c_{10} k_{y} + c_{31} k_{x} k_{z} - i c_{31} k_{y} k_{z}\\\\c_{1} - i c_{16} k_{z} + c_{20} k_{x}^{2} + c_{20} k_{y}^{2} + c_{36} k_{z}^{2} & - c_{29} k_{x} k_{z} + i c_{29} k_{y} k_{z} + i c_{8} k_{x} + c_{8} k_{y} & c_{23} k_{x}^{2} + c_{23} k_{y}^{2} + c_{3} + c_{38} k_{z}^{2} & i c_{11} k_{x} + c_{11} k_{y} & i c_{12} k_{x} + c_{12} k_{y} + c_{32} k_{x} k_{z} - i c_{32} k_{y} k_{z} & i c_{18} k_{z} + c_{24} k_{x}^{2} + c_{24} k_{y}^{2} + c_{39} k_{z}^{2} + c_{4} & i c_{13} k_{x} - c_{13} k_{y} + c_{33} k_{x} k_{z} + i c_{33} k_{y} k_{z} & c_{25} k_{x}^{2} - 2 i c_{25} k_{x} k_{y} - c_{25} k_{y}^{2}\\\\c_{29} k_{x} k_{z} + i c_{29} k_{y} k_{z} - i c_{8} k_{x} + c_{8} k_{y} & c_{1} - i c_{16} k_{z} + c_{20} k_{x}^{2} + c_{20} k_{y}^{2} + c_{36} k_{z}^{2} & - i c_{11} k_{x} + c_{11} k_{y} & c_{23} k_{x}^{2} + c_{23} k_{y}^{2} + c_{3} + c_{38} k_{z}^{2} & - i c_{18} k_{z} - c_{24} k_{x}^{2} - c_{24} k_{y}^{2} - c_{39} k_{z}^{2} - c_{4} & i c_{12} k_{x} - c_{12} k_{y} + c_{32} k_{x} k_{z} + i c_{32} k_{y} k_{z} & - c_{25} k_{x}^{2} - 2 i c_{25} k_{x} k_{y} + c_{25} k_{y}^{2} & i c_{13} k_{x} + c_{13} k_{y} + c_{33} k_{x} k_{z} - i c_{33} k_{y} k_{z}\\\\c_{30} k_{x} k_{z} + i c_{30} k_{y} k_{z} - i c_{9} k_{x} + c_{9} k_{y} & i c_{17} k_{z} - c_{2} - c_{21} k_{x}^{2} - c_{21} k_{y}^{2} - c_{37} k_{z}^{2} & - i c_{12} k_{x} + c_{12} k_{y} + c_{32} k_{x} k_{z} + i c_{32} k_{y} k_{z} & i c_{18} k_{z} - c_{24} k_{x}^{2} - c_{24} k_{y}^{2} - c_{39} k_{z}^{2} - c_{4} & c_{26} k_{x}^{2} + c_{26} k_{y}^{2} + c_{40} k_{z}^{2} + c_{5} & i c_{14} k_{x} - c_{14} k_{y} & c_{27} k_{x}^{2} + 2 i c_{27} k_{x} k_{y} - c_{27} k_{y}^{2} & i c_{15} k_{x} + c_{15} k_{y} + c_{34} k_{x} k_{z} - i c_{34} k_{y} k_{z}\\\\- i c_{17} k_{z} + c_{2} + c_{21} k_{x}^{2} + c_{21} k_{y}^{2} + c_{37} k_{z}^{2} & c_{30} k_{x} k_{z} - i c_{30} k_{y} k_{z} - i c_{9} k_{x} - c_{9} k_{y} & - i c_{18} k_{z} + c_{24} k_{x}^{2} + c_{24} k_{y}^{2} + c_{39} k_{z}^{2} + c_{4} & - i c_{12} k_{x} - c_{12} k_{y} + c_{32} k_{x} k_{z} - i c_{32} k_{y} k_{z} & - i c_{14} k_{x} - c_{14} k_{y} & c_{26} k_{x}^{2} + c_{26} k_{y}^{2} + c_{40} k_{z}^{2} + c_{5} & - i c_{15} k_{x} + c_{15} k_{y} - c_{34} k_{x} k_{z} - i c_{34} k_{y} k_{z} & c_{27} k_{x}^{2} - 2 i c_{27} k_{x} k_{y} - c_{27} k_{y}^{2}\\\\- i c_{10} k_{x} - c_{10} k_{y} + c_{31} k_{x} k_{z} - i c_{31} k_{y} k_{z} & - c_{22} k_{x}^{2} + 2 i c_{22} k_{x} k_{y} + c_{22} k_{y}^{2} & - i c_{13} k_{x} - c_{13} k_{y} + c_{33} k_{x} k_{z} - i c_{33} k_{y} k_{z} & - c_{25} k_{x}^{2} + 2 i c_{25} k_{x} k_{y} + c_{25} k_{y}^{2} & c_{27} k_{x}^{2} - 2 i c_{27} k_{x} k_{y} - c_{27} k_{y}^{2} & i c_{15} k_{x} + c_{15} k_{y} - c_{34} k_{x} k_{z} + i c_{34} k_{y} k_{z} & c_{28} k_{x}^{2} + c_{28} k_{y}^{2} + c_{41} k_{z}^{2} + c_{6} & 0\\\\c_{22} k_{x}^{2} + 2 i c_{22} k_{x} k_{y} - c_{22} k_{y}^{2} & - i c_{10} k_{x} + c_{10} k_{y} + c_{31} k_{x} k_{z} + i c_{31} k_{y} k_{z} & c_{25} k_{x}^{2} + 2 i c_{25} k_{x} k_{y} - c_{25} k_{y}^{2} & - i c_{13} k_{x} + c_{13} k_{y} + c_{33} k_{x} k_{z} + i c_{33} k_{y} k_{z} & - i c_{15} k_{x} + c_{15} k_{y} + c_{34} k_{x} k_{z} + i c_{34} k_{y} k_{z} & c_{27} k_{x}^{2} + 2 i c_{27} k_{x} k_{y} - c_{27} k_{y}^{2} & 0 & c_{28} k_{x}^{2} + c_{28} k_{y}^{2} + c_{41} k_{z}^{2} + c_{6}\\end{matrix}\\right]$"
      ],
      "text/plain": [
       "Matrix([\n",
       "[             c0 + c19*k_x**2 + c19*k_y**2 + c35*k_z**2,                                     I*c7*k_x + c7*k_y,  c1 + I*c16*k_z + c20*k_x**2 + c20*k_y**2 + c36*k_z**2,       c29*k_x*k_z - I*c29*k_y*k_z + I*c8*k_x + c8*k_y,        c30*k_x*k_z - I*c30*k_y*k_z + I*c9*k_x + c9*k_y, I*c17*k_z + c2 + c21*k_x**2 + c21*k_y**2 + c37*k_z**2,  I*c10*k_x - c10*k_y + c31*k_x*k_z + I*c31*k_y*k_z,         c22*k_x**2 - 2*I*c22*k_x*k_y - c22*k_y**2],\n",
       "[                                    -I*c7*k_x + c7*k_y,             c0 + c19*k_x**2 + c19*k_y**2 + c35*k_z**2,       -c29*k_x*k_z - I*c29*k_y*k_z - I*c8*k_x + c8*k_y, c1 + I*c16*k_z + c20*k_x**2 + c20*k_y**2 + c36*k_z**2, -I*c17*k_z - c2 - c21*k_x**2 - c21*k_y**2 - c37*k_z**2,       c30*k_x*k_z + I*c30*k_y*k_z + I*c9*k_x - c9*k_y,         -c22*k_x**2 - 2*I*c22*k_x*k_y + c22*k_y**2, I*c10*k_x + c10*k_y + c31*k_x*k_z - I*c31*k_y*k_z],\n",
       "[ c1 - I*c16*k_z + c20*k_x**2 + c20*k_y**2 + c36*k_z**2,      -c29*k_x*k_z + I*c29*k_y*k_z + I*c8*k_x + c8*k_y,              c23*k_x**2 + c23*k_y**2 + c3 + c38*k_z**2,                                   I*c11*k_x + c11*k_y,      I*c12*k_x + c12*k_y + c32*k_x*k_z - I*c32*k_y*k_z, I*c18*k_z + c24*k_x**2 + c24*k_y**2 + c39*k_z**2 + c4,  I*c13*k_x - c13*k_y + c33*k_x*k_z + I*c33*k_y*k_z,         c25*k_x**2 - 2*I*c25*k_x*k_y - c25*k_y**2],\n",
       "[       c29*k_x*k_z + I*c29*k_y*k_z - I*c8*k_x + c8*k_y, c1 - I*c16*k_z + c20*k_x**2 + c20*k_y**2 + c36*k_z**2,                                   -I*c11*k_x + c11*k_y,             c23*k_x**2 + c23*k_y**2 + c3 + c38*k_z**2, -I*c18*k_z - c24*k_x**2 - c24*k_y**2 - c39*k_z**2 - c4,     I*c12*k_x - c12*k_y + c32*k_x*k_z + I*c32*k_y*k_z,         -c25*k_x**2 - 2*I*c25*k_x*k_y + c25*k_y**2, I*c13*k_x + c13*k_y + c33*k_x*k_z - I*c33*k_y*k_z],\n",
       "[       c30*k_x*k_z + I*c30*k_y*k_z - I*c9*k_x + c9*k_y, I*c17*k_z - c2 - c21*k_x**2 - c21*k_y**2 - c37*k_z**2,     -I*c12*k_x + c12*k_y + c32*k_x*k_z + I*c32*k_y*k_z, I*c18*k_z - c24*k_x**2 - c24*k_y**2 - c39*k_z**2 - c4,              c26*k_x**2 + c26*k_y**2 + c40*k_z**2 + c5,                                   I*c14*k_x - c14*k_y,          c27*k_x**2 + 2*I*c27*k_x*k_y - c27*k_y**2, I*c15*k_x + c15*k_y + c34*k_x*k_z - I*c34*k_y*k_z],\n",
       "[-I*c17*k_z + c2 + c21*k_x**2 + c21*k_y**2 + c37*k_z**2,       c30*k_x*k_z - I*c30*k_y*k_z - I*c9*k_x - c9*k_y, -I*c18*k_z + c24*k_x**2 + c24*k_y**2 + c39*k_z**2 + c4,    -I*c12*k_x - c12*k_y + c32*k_x*k_z - I*c32*k_y*k_z,                                   -I*c14*k_x - c14*k_y,             c26*k_x**2 + c26*k_y**2 + c40*k_z**2 + c5, -I*c15*k_x + c15*k_y - c34*k_x*k_z - I*c34*k_y*k_z,         c27*k_x**2 - 2*I*c27*k_x*k_y - c27*k_y**2],\n",
       "[    -I*c10*k_x - c10*k_y + c31*k_x*k_z - I*c31*k_y*k_z,            -c22*k_x**2 + 2*I*c22*k_x*k_y + c22*k_y**2,     -I*c13*k_x - c13*k_y + c33*k_x*k_z - I*c33*k_y*k_z,            -c25*k_x**2 + 2*I*c25*k_x*k_y + c25*k_y**2,              c27*k_x**2 - 2*I*c27*k_x*k_y - c27*k_y**2,     I*c15*k_x + c15*k_y - c34*k_x*k_z + I*c34*k_y*k_z,          c28*k_x**2 + c28*k_y**2 + c41*k_z**2 + c6,                                                 0],\n",
       "[             c22*k_x**2 + 2*I*c22*k_x*k_y - c22*k_y**2,    -I*c10*k_x + c10*k_y + c31*k_x*k_z + I*c31*k_y*k_z,              c25*k_x**2 + 2*I*c25*k_x*k_y - c25*k_y**2,    -I*c13*k_x + c13*k_y + c33*k_x*k_z + I*c33*k_y*k_z,     -I*c15*k_x + c15*k_y + c34*k_x*k_z + I*c34*k_y*k_z,             c27*k_x**2 + 2*I*c27*k_x*k_y - c27*k_y**2,                                                  0,         c28*k_x**2 + c28*k_y**2 + c41*k_z**2 + c6]])"
      ]
     },
     "metadata": {},
     "output_type": "display_data"
    }
   ],
   "source": [
    "U = block_diag(C6_G9c, C6_G9v, C6_G9v1, C6_G7v1)\n",
    "C6 = dft2kp.rotation(1/6, [0,0,1], U=U)\n",
    "\n",
    "U = block_diag(Mx_G9c, Mx_G9v, Mx_G9v1, Mx_G7v1)\n",
    "Mx = dft2kp.mirror([1,0,0], U=U)\n",
    "\n",
    "U = block_diag(T_G9c, T_G9v, T_G9v1, T_G7v1)\n",
    "TRS = dft2kp.time_reversal(3, U=U)\n",
    "# ------------------------------------\n",
    "\n",
    "symms = [C6, Mx, TRS]\n",
    "qs = dft2kp.qsymm(symms, dim=3, total_power=2);"
   ]
  },
  {
   "cell_type": "code",
   "execution_count": 15,
   "metadata": {},
   "outputs": [
    {
     "name": "stdout",
     "output_type": "stream",
     "text": [
      "42\n"
     ]
    }
   ],
   "source": [
    "# save symms and qs object\n",
    "with open('wurtzite9.pickle', 'wb') as fp:\n",
    "  pickle.dump(symms, fp)\n",
    "  pickle.dump(qs, fp)\n",
    "print(len(qs.model))"
   ]
  },
  {
   "cell_type": "code",
   "execution_count": 16,
   "metadata": {},
   "outputs": [
    {
     "data": {
      "text/latex": [
       "$\\displaystyle \\left[\\begin{matrix}c_{0} + c_{19} k_{\\parallel}^2 + c_{35} k_{z}^{2} & i c_{7} k_{-} & c_{1} + i c_{16} k_{z} + c_{20} k_{\\parallel}^2 + c_{36} k_{z}^{2} & k_{-} \\left(c_{29} k_{z} + i c_{8}\\right) & k_{-} \\left(c_{30} k_{z} + i c_{9}\\right) & i c_{17} k_{z} + c_{2} + c_{21} k_{\\parallel}^2 + c_{37} k_{z}^{2} & k_{+} \\left(i c_{10} + c_{31} k_{z}\\right) & c_{22} \\left(\\hat{K} - 2 i k_{x} k_{y}\\right)\\\\- i c_{7} k_{+} & c_{0} + c_{19} k_{\\parallel}^2 + c_{35} k_{z}^{2} & - k_{+} \\left(c_{29} k_{z} + i c_{8}\\right) & c_{1} + i c_{16} k_{z} + c_{20} k_{\\parallel}^2 + c_{36} k_{z}^{2} & - i c_{17} k_{z} - c_{2} - c_{21} k_{\\parallel}^2 - c_{37} k_{z}^{2} & k_{+} \\left(c_{30} k_{z} + i c_{9}\\right) & - c_{22} \\left(\\hat{K} + 2 i k_{x} k_{y}\\right) & k_{-} \\left(i c_{10} + c_{31} k_{z}\\right)\\\\c_{1} - i c_{16} k_{z} + c_{20} k_{\\parallel}^2 + c_{36} k_{z}^{2} & k_{-} \\left(- c_{29} k_{z} + i c_{8}\\right) & c_{23} k_{\\parallel}^2 + c_{3} + c_{38} k_{z}^{2} & i c_{11} k_{-} & k_{-} \\left(i c_{12} + c_{32} k_{z}\\right) & i c_{18} k_{z} + c_{24} k_{\\parallel}^2 + c_{39} k_{z}^{2} + c_{4} & k_{+} \\left(i c_{13} + c_{33} k_{z}\\right) & c_{25} \\left(\\hat{K} - 2 i k_{x} k_{y}\\right)\\\\k_{+} \\left(c_{29} k_{z} - i c_{8}\\right) & c_{1} - i c_{16} k_{z} + c_{20} k_{\\parallel}^2 + c_{36} k_{z}^{2} & - i c_{11} k_{+} & c_{23} k_{\\parallel}^2 + c_{3} + c_{38} k_{z}^{2} & - i c_{18} k_{z} - c_{24} k_{\\parallel}^2 - c_{39} k_{z}^{2} - c_{4} & k_{+} \\left(i c_{12} + c_{32} k_{z}\\right) & - c_{25} \\left(\\hat{K} + 2 i k_{x} k_{y}\\right) & k_{-} \\left(i c_{13} + c_{33} k_{z}\\right)\\\\k_{+} \\left(c_{30} k_{z} - i c_{9}\\right) & i c_{17} k_{z} - c_{2} - c_{21} k_{\\parallel}^2 - c_{37} k_{z}^{2} & k_{+} \\left(- i c_{12} + c_{32} k_{z}\\right) & i c_{18} k_{z} - c_{24} k_{\\parallel}^2 - c_{39} k_{z}^{2} - c_{4} & c_{26} k_{\\parallel}^2 + c_{40} k_{z}^{2} + c_{5} & i c_{14} k_{+} & c_{27} \\left(\\hat{K} + 2 i k_{x} k_{y}\\right) & k_{-} \\left(i c_{15} + c_{34} k_{z}\\right)\\\\- i c_{17} k_{z} + c_{2} + c_{21} k_{\\parallel}^2 + c_{37} k_{z}^{2} & k_{-} \\left(c_{30} k_{z} - i c_{9}\\right) & - i c_{18} k_{z} + c_{24} k_{\\parallel}^2 + c_{39} k_{z}^{2} + c_{4} & k_{-} \\left(- i c_{12} + c_{32} k_{z}\\right) & - i c_{14} k_{-} & c_{26} k_{\\parallel}^2 + c_{40} k_{z}^{2} + c_{5} & - k_{+} \\left(i c_{15} + c_{34} k_{z}\\right) & c_{27} \\left(\\hat{K} - 2 i k_{x} k_{y}\\right)\\\\k_{-} \\left(- i c_{10} + c_{31} k_{z}\\right) & c_{22} \\left(- \\hat{K} + 2 i k_{x} k_{y}\\right) & k_{-} \\left(- i c_{13} + c_{33} k_{z}\\right) & c_{25} \\left(- \\hat{K} + 2 i k_{x} k_{y}\\right) & c_{27} \\left(\\hat{K} - 2 i k_{x} k_{y}\\right) & k_{-} \\left(i c_{15} - c_{34} k_{z}\\right) & c_{28} k_{\\parallel}^2 + c_{41} k_{z}^{2} + c_{6} & 0\\\\c_{22} \\left(\\hat{K} + 2 i k_{x} k_{y}\\right) & k_{+} \\left(- i c_{10} + c_{31} k_{z}\\right) & c_{25} \\left(\\hat{K} + 2 i k_{x} k_{y}\\right) & k_{+} \\left(- i c_{13} + c_{33} k_{z}\\right) & k_{+} \\left(- i c_{15} + c_{34} k_{z}\\right) & c_{27} \\left(\\hat{K} + 2 i k_{x} k_{y}\\right) & 0 & c_{28} k_{\\parallel}^2 + c_{41} k_{z}^{2} + c_{6}\\end{matrix}\\right]$"
      ],
      "text/plain": [
       "Matrix([\n",
       "[             c0 + c19*k_{\\parallel}^2 + c35*k_z**2,                                          I*c7*k_-,  c1 + I*c16*k_z + c20*k_{\\parallel}^2 + c36*k_z**2,                              k_-*(c29*k_z + I*c8),                               k_-*(c30*k_z + I*c9), I*c17*k_z + c2 + c21*k_{\\parallel}^2 + c37*k_z**2,                 k_+*(I*c10 + c31*k_z),           c22*(\\hat{K} - 2*I*k_x*k_y)],\n",
       "[                                         -I*c7*k_+,             c0 + c19*k_{\\parallel}^2 + c35*k_z**2,                              -k_+*(c29*k_z + I*c8), c1 + I*c16*k_z + c20*k_{\\parallel}^2 + c36*k_z**2, -I*c17*k_z - c2 - c21*k_{\\parallel}^2 - c37*k_z**2,                              k_+*(c30*k_z + I*c9),          -c22*(\\hat{K} + 2*I*k_x*k_y),                 k_-*(I*c10 + c31*k_z)],\n",
       "[ c1 - I*c16*k_z + c20*k_{\\parallel}^2 + c36*k_z**2,                             k_-*(-c29*k_z + I*c8),              c23*k_{\\parallel}^2 + c3 + c38*k_z**2,                                         I*c11*k_-,                              k_-*(I*c12 + c32*k_z), I*c18*k_z + c24*k_{\\parallel}^2 + c39*k_z**2 + c4,                 k_+*(I*c13 + c33*k_z),           c25*(\\hat{K} - 2*I*k_x*k_y)],\n",
       "[                              k_+*(c29*k_z - I*c8), c1 - I*c16*k_z + c20*k_{\\parallel}^2 + c36*k_z**2,                                         -I*c11*k_+,             c23*k_{\\parallel}^2 + c3 + c38*k_z**2, -I*c18*k_z - c24*k_{\\parallel}^2 - c39*k_z**2 - c4,                             k_+*(I*c12 + c32*k_z),          -c25*(\\hat{K} + 2*I*k_x*k_y),                 k_-*(I*c13 + c33*k_z)],\n",
       "[                              k_+*(c30*k_z - I*c9), I*c17*k_z - c2 - c21*k_{\\parallel}^2 - c37*k_z**2,                             k_+*(-I*c12 + c32*k_z), I*c18*k_z - c24*k_{\\parallel}^2 - c39*k_z**2 - c4,              c26*k_{\\parallel}^2 + c40*k_z**2 + c5,                                         I*c14*k_+,           c27*(\\hat{K} + 2*I*k_x*k_y),                 k_-*(I*c15 + c34*k_z)],\n",
       "[-I*c17*k_z + c2 + c21*k_{\\parallel}^2 + c37*k_z**2,                              k_-*(c30*k_z - I*c9), -I*c18*k_z + c24*k_{\\parallel}^2 + c39*k_z**2 + c4,                            k_-*(-I*c12 + c32*k_z),                                         -I*c14*k_-,             c26*k_{\\parallel}^2 + c40*k_z**2 + c5,                -k_+*(I*c15 + c34*k_z),           c27*(\\hat{K} - 2*I*k_x*k_y)],\n",
       "[                            k_-*(-I*c10 + c31*k_z),                      c22*(-\\hat{K} + 2*I*k_x*k_y),                             k_-*(-I*c13 + c33*k_z),                      c25*(-\\hat{K} + 2*I*k_x*k_y),                        c27*(\\hat{K} - 2*I*k_x*k_y),                             k_-*(I*c15 - c34*k_z), c28*k_{\\parallel}^2 + c41*k_z**2 + c6,                                     0],\n",
       "[                       c22*(\\hat{K} + 2*I*k_x*k_y),                            k_+*(-I*c10 + c31*k_z),                        c25*(\\hat{K} + 2*I*k_x*k_y),                            k_+*(-I*c13 + c33*k_z),                             k_+*(-I*c15 + c34*k_z),                       c27*(\\hat{K} + 2*I*k_x*k_y),                                     0, c28*k_{\\parallel}^2 + c41*k_z**2 + c6]])"
      ]
     },
     "execution_count": 16,
     "metadata": {},
     "output_type": "execute_result"
    }
   ],
   "source": [
    "# print model in Latex format\n",
    "H = hamiltonian_from_family(qs.model, nsimplify=True)\n",
    "\n",
    "cs = sympy.symbols('c:42')\n",
    "kx, ky, kz = sympy.symbols('k_x, k_y, k_z')\n",
    "k2, kp, km = sympy.symbols('k^2, k_+, k_-')\n",
    "kxy2 = sympy.symbols('k_{\\parallel}^2') # = kx**2 + ky**2\n",
    "Kbig = sympy.symbols('\\hat{K}') # = kx**2 - ky**2\n",
    "# kp = kx+i.ky\n",
    "# km = kx-i.ky\n",
    "# kx = (kp+km)/2\n",
    "# ky = (kp-km)/2i\n",
    "\n",
    "H = H.applyfunc(lambda ij: sympy.collect(ij, cs))\n",
    "\n",
    "H = sympy.simplify(H)\n",
    "H = sympy.simplify(H.subs({kx**2 + ky**2 + kz**2: k2}))\n",
    "H = sympy.simplify(H.subs({kx**2 + ky**2: kxy2}))\n",
    "H = sympy.simplify(H.subs({kx+sympy.I*ky: kp, \n",
    "                           kx-sympy.I*ky: km,\n",
    "                           sympy.I*kx-ky: sympy.I*kp, \n",
    "                           sympy.I*kx+ky: sympy.I*km,\n",
    "                           }))\n",
    "\n",
    "H = sympy.simplify(H.subs({kx**2 - ky**2: Kbig}))\n",
    "\n",
    "H"
   ]
  },
  {
   "cell_type": "code",
   "execution_count": 18,
   "metadata": {},
   "outputs": [
    {
     "name": "stdout",
     "output_type": "stream",
     "text": [
      "\\left[\\begin{matrix}c_{0} + c_{19} k_{\\parallel}^2 + c_{35} k_{z}^{2} & i c_{7} k_{-} & c_{1} + i c_{16} k_{z} + c_{20} k_{\\parallel}^2 + c_{36} k_{z}^{2} & k_{-} \\left(c_{29} k_{z} + i c_{8}\\right) & k_{-} \\left(c_{30} k_{z} + i c_{9}\\right) & i c_{17} k_{z} + c_{2} + c_{21} k_{\\parallel}^2 + c_{37} k_{z}^{2} & k_{+} \\left(i c_{10} + c_{31} k_{z}\\right) & c_{22} \\left(\\hat{K} - 2 i k_{x} k_{y}\\right)\\\\- i c_{7} k_{+} & c_{0} + c_{19} k_{\\parallel}^2 + c_{35} k_{z}^{2} & - k_{+} \\left(c_{29} k_{z} + i c_{8}\\right) & c_{1} + i c_{16} k_{z} + c_{20} k_{\\parallel}^2 + c_{36} k_{z}^{2} & - i c_{17} k_{z} - c_{2} - c_{21} k_{\\parallel}^2 - c_{37} k_{z}^{2} & k_{+} \\left(c_{30} k_{z} + i c_{9}\\right) & - c_{22} \\left(\\hat{K} + 2 i k_{x} k_{y}\\right) & k_{-} \\left(i c_{10} + c_{31} k_{z}\\right)\\\\c_{1} - i c_{16} k_{z} + c_{20} k_{\\parallel}^2 + c_{36} k_{z}^{2} & k_{-} \\left(- c_{29} k_{z} + i c_{8}\\right) & c_{23} k_{\\parallel}^2 + c_{3} + c_{38} k_{z}^{2} & i c_{11} k_{-} & k_{-} \\left(i c_{12} + c_{32} k_{z}\\right) & i c_{18} k_{z} + c_{24} k_{\\parallel}^2 + c_{39} k_{z}^{2} + c_{4} & k_{+} \\left(i c_{13} + c_{33} k_{z}\\right) & c_{25} \\left(\\hat{K} - 2 i k_{x} k_{y}\\right)\\\\k_{+} \\left(c_{29} k_{z} - i c_{8}\\right) & c_{1} - i c_{16} k_{z} + c_{20} k_{\\parallel}^2 + c_{36} k_{z}^{2} & - i c_{11} k_{+} & c_{23} k_{\\parallel}^2 + c_{3} + c_{38} k_{z}^{2} & - i c_{18} k_{z} - c_{24} k_{\\parallel}^2 - c_{39} k_{z}^{2} - c_{4} & k_{+} \\left(i c_{12} + c_{32} k_{z}\\right) & - c_{25} \\left(\\hat{K} + 2 i k_{x} k_{y}\\right) & k_{-} \\left(i c_{13} + c_{33} k_{z}\\right)\\\\k_{+} \\left(c_{30} k_{z} - i c_{9}\\right) & i c_{17} k_{z} - c_{2} - c_{21} k_{\\parallel}^2 - c_{37} k_{z}^{2} & k_{+} \\left(- i c_{12} + c_{32} k_{z}\\right) & i c_{18} k_{z} - c_{24} k_{\\parallel}^2 - c_{39} k_{z}^{2} - c_{4} & c_{26} k_{\\parallel}^2 + c_{40} k_{z}^{2} + c_{5} & i c_{14} k_{+} & c_{27} \\left(\\hat{K} + 2 i k_{x} k_{y}\\right) & k_{-} \\left(i c_{15} + c_{34} k_{z}\\right)\\\\- i c_{17} k_{z} + c_{2} + c_{21} k_{\\parallel}^2 + c_{37} k_{z}^{2} & k_{-} \\left(c_{30} k_{z} - i c_{9}\\right) & - i c_{18} k_{z} + c_{24} k_{\\parallel}^2 + c_{39} k_{z}^{2} + c_{4} & k_{-} \\left(- i c_{12} + c_{32} k_{z}\\right) & - i c_{14} k_{-} & c_{26} k_{\\parallel}^2 + c_{40} k_{z}^{2} + c_{5} & - k_{+} \\left(i c_{15} + c_{34} k_{z}\\right) & c_{27} \\left(\\hat{K} - 2 i k_{x} k_{y}\\right)\\\\k_{-} \\left(- i c_{10} + c_{31} k_{z}\\right) & c_{22} \\left(- \\hat{K} + 2 i k_{x} k_{y}\\right) & k_{-} \\left(- i c_{13} + c_{33} k_{z}\\right) & c_{25} \\left(- \\hat{K} + 2 i k_{x} k_{y}\\right) & c_{27} \\left(\\hat{K} - 2 i k_{x} k_{y}\\right) & k_{-} \\left(i c_{15} - c_{34} k_{z}\\right) & c_{28} k_{\\parallel}^2 + c_{41} k_{z}^{2} + c_{6} & 0\\\\c_{22} \\left(\\hat{K} + 2 i k_{x} k_{y}\\right) & k_{+} \\left(- i c_{10} + c_{31} k_{z}\\right) & c_{25} \\left(\\hat{K} + 2 i k_{x} k_{y}\\right) & k_{+} \\left(- i c_{13} + c_{33} k_{z}\\right) & k_{+} \\left(- i c_{15} + c_{34} k_{z}\\right) & c_{27} \\left(\\hat{K} + 2 i k_{x} k_{y}\\right) & 0 & c_{28} k_{\\parallel}^2 + c_{41} k_{z}^{2} + c_{6}\\end{matrix}\\right]\n"
     ]
    }
   ],
   "source": [
    "print(sympy.latex(H))"
   ]
  },
  {
   "cell_type": "code",
   "execution_count": null,
   "metadata": {},
   "outputs": [],
   "source": []
  },
  {
   "cell_type": "code",
   "execution_count": null,
   "metadata": {},
   "outputs": [],
   "source": []
  }
 ],
 "metadata": {
  "kernelspec": {
   "display_name": "Python 3.9.12 ('base')",
   "language": "python",
   "name": "python3"
  },
  "language_info": {
   "codemirror_mode": {
    "name": "ipython",
    "version": 3
   },
   "file_extension": ".py",
   "mimetype": "text/x-python",
   "name": "python",
   "nbconvert_exporter": "python",
   "pygments_lexer": "ipython3",
   "version": "3.9.12"
  },
  "orig_nbformat": 4,
  "vscode": {
   "interpreter": {
    "hash": "db1a563fab97a9a8ce88d3971a3486981b0e1162d1aa065e589063358c46b367"
   }
  }
 },
 "nbformat": 4,
 "nbformat_minor": 2
}
