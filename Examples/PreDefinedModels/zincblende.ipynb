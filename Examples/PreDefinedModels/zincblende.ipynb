{
 "cells": [
  {
   "cell_type": "markdown",
   "metadata": {},
   "source": [
    "# Pre generated model: Zincblende\n",
    "\n",
    "Here we run \"step 4\" separately to define a common object for all materials of the same type.\n",
    "\n",
    "This is useful because each time you run QSYMM to define the kp model, its numerical process may lead Hamiltonian families that are equivalent, but with different numerical prefactors or different order of the $c_n$ coefficients. Therefore, here define the model and store it in a file to be read by the examples that uses this crystal symmetry."
   ]
  },
  {
   "cell_type": "code",
   "execution_count": 79,
   "metadata": {},
   "outputs": [],
   "source": [
    "import numpy as np\n",
    "import pydft2kp as dft2kp\n",
    "from qsymm.hamiltonian_generator import hamiltonian_from_family\n",
    "import sympy\n",
    "import pickle"
   ]
  },
  {
   "cell_type": "code",
   "execution_count": 80,
   "metadata": {},
   "outputs": [
    {
     "data": {
      "text/latex": [
       "$\\displaystyle \\left[\\begin{matrix}c_{0} + c_{7} k_{x}^{2} + c_{7} k_{y}^{2} + c_{7} k_{z}^{2} & 0 & i c_{15} k_{x} k_{z} + c_{15} k_{y} k_{z} - \\frac{\\sqrt{3} i c_{5} k_{x}}{2} + \\frac{\\sqrt{3} c_{5} k_{y}}{2} & - \\frac{i c_{12} k_{x}^{2}}{2} - \\frac{i c_{12} k_{y}^{2}}{2} + i c_{12} k_{z}^{2} & \\frac{\\sqrt{3} i c_{15} k_{x} k_{z}}{3} - \\frac{\\sqrt{3} c_{15} k_{y} k_{z}}{3} + \\frac{i c_{5} k_{x}}{2} + \\frac{c_{5} k_{y}}{2} & - \\frac{\\sqrt{3} i c_{12} k_{x}^{2}}{2} + \\frac{\\sqrt{3} i c_{12} k_{y}^{2}}{2} - \\frac{2 \\sqrt{3} c_{15} k_{x} k_{y}}{3} + i c_{5} k_{z} & i c_{16} k_{x} k_{z} - c_{16} k_{y} k_{z} + i c_{6} k_{x} + c_{6} k_{y} & - c_{16} k_{x} k_{y} + i c_{6} k_{z}\\\\0 & c_{0} + c_{7} k_{x}^{2} + c_{7} k_{y}^{2} + c_{7} k_{z}^{2} & \\frac{i c_{12} k_{x}^{2}}{2} + \\frac{i c_{12} k_{y}^{2}}{2} - i c_{12} k_{z}^{2} & i c_{15} k_{x} k_{z} - c_{15} k_{y} k_{z} + \\frac{\\sqrt{3} i c_{5} k_{x}}{2} + \\frac{\\sqrt{3} c_{5} k_{y}}{2} & \\frac{\\sqrt{3} i c_{12} k_{x}^{2}}{2} - \\frac{\\sqrt{3} i c_{12} k_{y}^{2}}{2} - \\frac{2 \\sqrt{3} c_{15} k_{x} k_{y}}{3} + i c_{5} k_{z} & \\frac{\\sqrt{3} i c_{15} k_{x} k_{z}}{3} + \\frac{\\sqrt{3} c_{15} k_{y} k_{z}}{3} - \\frac{i c_{5} k_{x}}{2} + \\frac{c_{5} k_{y}}{2} & c_{16} k_{x} k_{y} - i c_{6} k_{z} & - i c_{16} k_{x} k_{z} - c_{16} k_{y} k_{z} + i c_{6} k_{x} - c_{6} k_{y}\\\\- i c_{15} k_{x} k_{z} + c_{15} k_{y} k_{z} + \\frac{\\sqrt{3} i c_{5} k_{x}}{2} + \\frac{\\sqrt{3} c_{5} k_{y}}{2} & - \\frac{i c_{12} k_{x}^{2}}{2} - \\frac{i c_{12} k_{y}^{2}}{2} + i c_{12} k_{z}^{2} & c_{1} + \\frac{c_{8} k_{x}^{2}}{4} + \\frac{c_{8} k_{y}^{2}}{4} + c_{8} k_{z}^{2} + \\frac{3 c_{9} k_{x}^{2}}{4} + \\frac{3 c_{9} k_{y}^{2}}{4} & - \\frac{\\sqrt{3} c_{3} k_{x}}{2} + \\frac{\\sqrt{3} i c_{3} k_{y}}{2} & - i c_{13} k_{x} k_{y} + c_{3} k_{z} + \\frac{\\sqrt{3} c_{8} k_{x}^{2}}{4} - \\frac{\\sqrt{3} c_{8} k_{y}^{2}}{4} - \\frac{\\sqrt{3} c_{9} k_{x}^{2}}{4} + \\frac{\\sqrt{3} c_{9} k_{y}^{2}}{4} & c_{13} k_{x} k_{z} - i c_{13} k_{y} k_{z} - \\frac{c_{3} k_{x}}{2} - \\frac{i c_{3} k_{y}}{2} & \\frac{\\sqrt{3} c_{10} k_{x}^{2}}{2} - \\frac{\\sqrt{3} c_{10} k_{y}^{2}}{2} - 2 i c_{14} k_{x} k_{y} + c_{4} k_{z} & c_{14} k_{x} k_{z} - i c_{14} k_{y} k_{z} + \\frac{c_{4} k_{x}}{2} + \\frac{i c_{4} k_{y}}{2}\\\\\\frac{i c_{12} k_{x}^{2}}{2} + \\frac{i c_{12} k_{y}^{2}}{2} - i c_{12} k_{z}^{2} & - i c_{15} k_{x} k_{z} - c_{15} k_{y} k_{z} - \\frac{\\sqrt{3} i c_{5} k_{x}}{2} + \\frac{\\sqrt{3} c_{5} k_{y}}{2} & - \\frac{\\sqrt{3} c_{3} k_{x}}{2} - \\frac{\\sqrt{3} i c_{3} k_{y}}{2} & c_{1} + \\frac{c_{8} k_{x}^{2}}{4} + \\frac{c_{8} k_{y}^{2}}{4} + c_{8} k_{z}^{2} + \\frac{3 c_{9} k_{x}^{2}}{4} + \\frac{3 c_{9} k_{y}^{2}}{4} & - c_{13} k_{x} k_{z} - i c_{13} k_{y} k_{z} - \\frac{c_{3} k_{x}}{2} + \\frac{i c_{3} k_{y}}{2} & i c_{13} k_{x} k_{y} - c_{3} k_{z} + \\frac{\\sqrt{3} c_{8} k_{x}^{2}}{4} - \\frac{\\sqrt{3} c_{8} k_{y}^{2}}{4} - \\frac{\\sqrt{3} c_{9} k_{x}^{2}}{4} + \\frac{\\sqrt{3} c_{9} k_{y}^{2}}{4} & c_{14} k_{x} k_{z} + i c_{14} k_{y} k_{z} - \\frac{c_{4} k_{x}}{2} + \\frac{i c_{4} k_{y}}{2} & - \\frac{\\sqrt{3} c_{10} k_{x}^{2}}{2} + \\frac{\\sqrt{3} c_{10} k_{y}^{2}}{2} - 2 i c_{14} k_{x} k_{y} + c_{4} k_{z}\\\\- \\frac{\\sqrt{3} i c_{15} k_{x} k_{z}}{3} - \\frac{\\sqrt{3} c_{15} k_{y} k_{z}}{3} - \\frac{i c_{5} k_{x}}{2} + \\frac{c_{5} k_{y}}{2} & - \\frac{\\sqrt{3} i c_{12} k_{x}^{2}}{2} + \\frac{\\sqrt{3} i c_{12} k_{y}^{2}}{2} - \\frac{2 \\sqrt{3} c_{15} k_{x} k_{y}}{3} - i c_{5} k_{z} & i c_{13} k_{x} k_{y} + c_{3} k_{z} + \\frac{\\sqrt{3} c_{8} k_{x}^{2}}{4} - \\frac{\\sqrt{3} c_{8} k_{y}^{2}}{4} - \\frac{\\sqrt{3} c_{9} k_{x}^{2}}{4} + \\frac{\\sqrt{3} c_{9} k_{y}^{2}}{4} & - c_{13} k_{x} k_{z} + i c_{13} k_{y} k_{z} - \\frac{c_{3} k_{x}}{2} - \\frac{i c_{3} k_{y}}{2} & c_{1} + \\frac{3 c_{8} k_{x}^{2}}{4} + \\frac{3 c_{8} k_{y}^{2}}{4} + \\frac{c_{9} k_{x}^{2}}{4} + \\frac{c_{9} k_{y}^{2}}{4} + c_{9} k_{z}^{2} & \\frac{\\sqrt{3} c_{3} k_{x}}{2} - \\frac{\\sqrt{3} i c_{3} k_{y}}{2} & - \\frac{c_{10} k_{x}^{2}}{2} - \\frac{c_{10} k_{y}^{2}}{2} + c_{10} k_{z}^{2} & - \\sqrt{3} c_{14} k_{x} k_{z} - \\sqrt{3} i c_{14} k_{y} k_{z} + \\frac{\\sqrt{3} c_{4} k_{x}}{2} - \\frac{\\sqrt{3} i c_{4} k_{y}}{2}\\\\\\frac{\\sqrt{3} i c_{12} k_{x}^{2}}{2} - \\frac{\\sqrt{3} i c_{12} k_{y}^{2}}{2} - \\frac{2 \\sqrt{3} c_{15} k_{x} k_{y}}{3} - i c_{5} k_{z} & - \\frac{\\sqrt{3} i c_{15} k_{x} k_{z}}{3} + \\frac{\\sqrt{3} c_{15} k_{y} k_{z}}{3} + \\frac{i c_{5} k_{x}}{2} + \\frac{c_{5} k_{y}}{2} & c_{13} k_{x} k_{z} + i c_{13} k_{y} k_{z} - \\frac{c_{3} k_{x}}{2} + \\frac{i c_{3} k_{y}}{2} & - i c_{13} k_{x} k_{y} - c_{3} k_{z} + \\frac{\\sqrt{3} c_{8} k_{x}^{2}}{4} - \\frac{\\sqrt{3} c_{8} k_{y}^{2}}{4} - \\frac{\\sqrt{3} c_{9} k_{x}^{2}}{4} + \\frac{\\sqrt{3} c_{9} k_{y}^{2}}{4} & \\frac{\\sqrt{3} c_{3} k_{x}}{2} + \\frac{\\sqrt{3} i c_{3} k_{y}}{2} & c_{1} + \\frac{3 c_{8} k_{x}^{2}}{4} + \\frac{3 c_{8} k_{y}^{2}}{4} + \\frac{c_{9} k_{x}^{2}}{4} + \\frac{c_{9} k_{y}^{2}}{4} + c_{9} k_{z}^{2} & - \\sqrt{3} c_{14} k_{x} k_{z} + \\sqrt{3} i c_{14} k_{y} k_{z} - \\frac{\\sqrt{3} c_{4} k_{x}}{2} - \\frac{\\sqrt{3} i c_{4} k_{y}}{2} & \\frac{c_{10} k_{x}^{2}}{2} + \\frac{c_{10} k_{y}^{2}}{2} - c_{10} k_{z}^{2}\\\\- i c_{16} k_{x} k_{z} - c_{16} k_{y} k_{z} - i c_{6} k_{x} + c_{6} k_{y} & c_{16} k_{x} k_{y} + i c_{6} k_{z} & \\frac{\\sqrt{3} c_{10} k_{x}^{2}}{2} - \\frac{\\sqrt{3} c_{10} k_{y}^{2}}{2} + 2 i c_{14} k_{x} k_{y} + c_{4} k_{z} & c_{14} k_{x} k_{z} - i c_{14} k_{y} k_{z} - \\frac{c_{4} k_{x}}{2} - \\frac{i c_{4} k_{y}}{2} & - \\frac{c_{10} k_{x}^{2}}{2} - \\frac{c_{10} k_{y}^{2}}{2} + c_{10} k_{z}^{2} & - \\sqrt{3} c_{14} k_{x} k_{z} - \\sqrt{3} i c_{14} k_{y} k_{z} - \\frac{\\sqrt{3} c_{4} k_{x}}{2} + \\frac{\\sqrt{3} i c_{4} k_{y}}{2} & c_{11} k_{x}^{2} + c_{11} k_{y}^{2} + c_{11} k_{z}^{2} + c_{2} & 0\\\\- c_{16} k_{x} k_{y} - i c_{6} k_{z} & i c_{16} k_{x} k_{z} - c_{16} k_{y} k_{z} - i c_{6} k_{x} - c_{6} k_{y} & c_{14} k_{x} k_{z} + i c_{14} k_{y} k_{z} + \\frac{c_{4} k_{x}}{2} - \\frac{i c_{4} k_{y}}{2} & - \\frac{\\sqrt{3} c_{10} k_{x}^{2}}{2} + \\frac{\\sqrt{3} c_{10} k_{y}^{2}}{2} + 2 i c_{14} k_{x} k_{y} + c_{4} k_{z} & - \\sqrt{3} c_{14} k_{x} k_{z} + \\sqrt{3} i c_{14} k_{y} k_{z} + \\frac{\\sqrt{3} c_{4} k_{x}}{2} + \\frac{\\sqrt{3} i c_{4} k_{y}}{2} & \\frac{c_{10} k_{x}^{2}}{2} + \\frac{c_{10} k_{y}^{2}}{2} - c_{10} k_{z}^{2} & 0 & c_{11} k_{x}^{2} + c_{11} k_{y}^{2} + c_{11} k_{z}^{2} + c_{2}\\end{matrix}\\right]$"
      ],
      "text/plain": [
       "Matrix([\n",
       "[                                              c0 + c7*k_x**2 + c7*k_y**2 + c7*k_z**2,                                                                                     0,                                            I*c15*k_x*k_z + c15*k_y*k_z - sqrt(3)*I*c5*k_x/2 + sqrt(3)*c5*k_y/2,                                                                 -I*c12*k_x**2/2 - I*c12*k_y**2/2 + I*c12*k_z**2,                                         sqrt(3)*I*c15*k_x*k_z/3 - sqrt(3)*c15*k_y*k_z/3 + I*c5*k_x/2 + c5*k_y/2,                          -sqrt(3)*I*c12*k_x**2/2 + sqrt(3)*I*c12*k_y**2/2 - 2*sqrt(3)*c15*k_x*k_y/3 + I*c5*k_z,                                      I*c16*k_x*k_z - c16*k_y*k_z + I*c6*k_x + c6*k_y,                                                              -c16*k_x*k_y + I*c6*k_z],\n",
       "[                                                                                   0,                                                c0 + c7*k_x**2 + c7*k_y**2 + c7*k_z**2,                                                                 I*c12*k_x**2/2 + I*c12*k_y**2/2 - I*c12*k_z**2,                                             I*c15*k_x*k_z - c15*k_y*k_z + sqrt(3)*I*c5*k_x/2 + sqrt(3)*c5*k_y/2,                            sqrt(3)*I*c12*k_x**2/2 - sqrt(3)*I*c12*k_y**2/2 - 2*sqrt(3)*c15*k_x*k_y/3 + I*c5*k_z,                                        sqrt(3)*I*c15*k_x*k_z/3 + sqrt(3)*c15*k_y*k_z/3 - I*c5*k_x/2 + c5*k_y/2,                                                               c16*k_x*k_y - I*c6*k_z,                                     -I*c16*k_x*k_z - c16*k_y*k_z + I*c6*k_x - c6*k_y],\n",
       "[                -I*c15*k_x*k_z + c15*k_y*k_z + sqrt(3)*I*c5*k_x/2 + sqrt(3)*c5*k_y/2,                                       -I*c12*k_x**2/2 - I*c12*k_y**2/2 + I*c12*k_z**2,                                     c1 + c8*k_x**2/4 + c8*k_y**2/4 + c8*k_z**2 + 3*c9*k_x**2/4 + 3*c9*k_y**2/4,                                                                          -sqrt(3)*c3*k_x/2 + sqrt(3)*I*c3*k_y/2, -I*c13*k_x*k_y + c3*k_z + sqrt(3)*c8*k_x**2/4 - sqrt(3)*c8*k_y**2/4 - sqrt(3)*c9*k_x**2/4 + sqrt(3)*c9*k_y**2/4,                                                            c13*k_x*k_z - I*c13*k_y*k_z - c3*k_x/2 - I*c3*k_y/2,               sqrt(3)*c10*k_x**2/2 - sqrt(3)*c10*k_y**2/2 - 2*I*c14*k_x*k_y + c4*k_z,                                  c14*k_x*k_z - I*c14*k_y*k_z + c4*k_x/2 + I*c4*k_y/2],\n",
       "[                                      I*c12*k_x**2/2 + I*c12*k_y**2/2 - I*c12*k_z**2,                  -I*c15*k_x*k_z - c15*k_y*k_z - sqrt(3)*I*c5*k_x/2 + sqrt(3)*c5*k_y/2,                                                                         -sqrt(3)*c3*k_x/2 - sqrt(3)*I*c3*k_y/2,                                      c1 + c8*k_x**2/4 + c8*k_y**2/4 + c8*k_z**2 + 3*c9*k_x**2/4 + 3*c9*k_y**2/4,                                                            -c13*k_x*k_z - I*c13*k_y*k_z - c3*k_x/2 + I*c3*k_y/2, I*c13*k_x*k_y - c3*k_z + sqrt(3)*c8*k_x**2/4 - sqrt(3)*c8*k_y**2/4 - sqrt(3)*c9*k_x**2/4 + sqrt(3)*c9*k_y**2/4,                                  c14*k_x*k_z + I*c14*k_y*k_z - c4*k_x/2 + I*c4*k_y/2,              -sqrt(3)*c10*k_x**2/2 + sqrt(3)*c10*k_y**2/2 - 2*I*c14*k_x*k_y + c4*k_z],\n",
       "[            -sqrt(3)*I*c15*k_x*k_z/3 - sqrt(3)*c15*k_y*k_z/3 - I*c5*k_x/2 + c5*k_y/2, -sqrt(3)*I*c12*k_x**2/2 + sqrt(3)*I*c12*k_y**2/2 - 2*sqrt(3)*c15*k_x*k_y/3 - I*c5*k_z, I*c13*k_x*k_y + c3*k_z + sqrt(3)*c8*k_x**2/4 - sqrt(3)*c8*k_y**2/4 - sqrt(3)*c9*k_x**2/4 + sqrt(3)*c9*k_y**2/4,                                                            -c13*k_x*k_z + I*c13*k_y*k_z - c3*k_x/2 - I*c3*k_y/2,                                      c1 + 3*c8*k_x**2/4 + 3*c8*k_y**2/4 + c9*k_x**2/4 + c9*k_y**2/4 + c9*k_z**2,                                                                          sqrt(3)*c3*k_x/2 - sqrt(3)*I*c3*k_y/2,                                            -c10*k_x**2/2 - c10*k_y**2/2 + c10*k_z**2, -sqrt(3)*c14*k_x*k_z - sqrt(3)*I*c14*k_y*k_z + sqrt(3)*c4*k_x/2 - sqrt(3)*I*c4*k_y/2],\n",
       "[sqrt(3)*I*c12*k_x**2/2 - sqrt(3)*I*c12*k_y**2/2 - 2*sqrt(3)*c15*k_x*k_y/3 - I*c5*k_z,              -sqrt(3)*I*c15*k_x*k_z/3 + sqrt(3)*c15*k_y*k_z/3 + I*c5*k_x/2 + c5*k_y/2,                                                            c13*k_x*k_z + I*c13*k_y*k_z - c3*k_x/2 + I*c3*k_y/2, -I*c13*k_x*k_y - c3*k_z + sqrt(3)*c8*k_x**2/4 - sqrt(3)*c8*k_y**2/4 - sqrt(3)*c9*k_x**2/4 + sqrt(3)*c9*k_y**2/4,                                                                           sqrt(3)*c3*k_x/2 + sqrt(3)*I*c3*k_y/2,                                     c1 + 3*c8*k_x**2/4 + 3*c8*k_y**2/4 + c9*k_x**2/4 + c9*k_y**2/4 + c9*k_z**2, -sqrt(3)*c14*k_x*k_z + sqrt(3)*I*c14*k_y*k_z - sqrt(3)*c4*k_x/2 - sqrt(3)*I*c4*k_y/2,                                             c10*k_x**2/2 + c10*k_y**2/2 - c10*k_z**2],\n",
       "[                                    -I*c16*k_x*k_z - c16*k_y*k_z - I*c6*k_x + c6*k_y,                                                                c16*k_x*k_y + I*c6*k_z,                                         sqrt(3)*c10*k_x**2/2 - sqrt(3)*c10*k_y**2/2 + 2*I*c14*k_x*k_y + c4*k_z,                                                             c14*k_x*k_z - I*c14*k_y*k_z - c4*k_x/2 - I*c4*k_y/2,                                                                       -c10*k_x**2/2 - c10*k_y**2/2 + c10*k_z**2,                           -sqrt(3)*c14*k_x*k_z - sqrt(3)*I*c14*k_y*k_z - sqrt(3)*c4*k_x/2 + sqrt(3)*I*c4*k_y/2,                                            c11*k_x**2 + c11*k_y**2 + c11*k_z**2 + c2,                                                                                    0],\n",
       "[                                                             -c16*k_x*k_y - I*c6*k_z,                                       I*c16*k_x*k_z - c16*k_y*k_z - I*c6*k_x - c6*k_y,                                                            c14*k_x*k_z + I*c14*k_y*k_z + c4*k_x/2 - I*c4*k_y/2,                                         -sqrt(3)*c10*k_x**2/2 + sqrt(3)*c10*k_y**2/2 + 2*I*c14*k_x*k_y + c4*k_z,                            -sqrt(3)*c14*k_x*k_z + sqrt(3)*I*c14*k_y*k_z + sqrt(3)*c4*k_x/2 + sqrt(3)*I*c4*k_y/2,                                                                       c10*k_x**2/2 + c10*k_y**2/2 - c10*k_z**2,                                                                                    0,                                            c11*k_x**2 + c11*k_y**2 + c11*k_z**2 + c2]])"
      ]
     },
     "metadata": {},
     "output_type": "display_data"
    }
   ],
   "source": [
    "# step 4: builds optimal model with qsymm\n",
    "# Pauli matrices\n",
    "from pydft2kp.constants import s0, sx, sy, sz\n",
    "\n",
    "# build symmetry operations of Td = {C3, S4}\n",
    "# consider also T = time-reversal symmetry\n",
    "\n",
    "# ------------------------------------\n",
    "U6 = 0.5*np.array([[1-1j, -1-1j],[1-1j, 1+1j]])\n",
    "U7 = 0.5*np.array([[1+1j, 1-1j],[-1-1j, 1-1j]])\n",
    "U8 = np.array([\n",
    "    [-1-1j, 1-1j, (1+1j)*np.sqrt(3), (-1+1j)*np.sqrt(3)],\n",
    "    [-1-1j, -1+1j, (1+1j)*np.sqrt(3), (1-1j)*np.sqrt(3)],\n",
    "    [(-1-1j)*np.sqrt(3), (1-1j)*np.sqrt(3), -1-1j, 1-1j],\n",
    "    [(-1-1j)*np.sqrt(3), (-1+1j)*np.sqrt(3), -1-1j, -1+1j]\n",
    "    ])/4\n",
    "U = np.block([[U6, np.zeros([2,4]), np.zeros([2,2])],\n",
    "              [np.zeros([4,2]), U8, np.zeros([4,2])],\n",
    "              [np.zeros([2,2]), np.zeros([2,4]), U7]])\n",
    "C3 = dft2kp.rotation(1/3, [1,1,1], U=U)\n",
    "# ------------------------------------\n",
    "\n",
    "# ------------------------------------\n",
    "U6 = np.diag([1-1j, 1+1j])/np.sqrt(2)\n",
    "U7 = np.diag([-1-1j, -1+1j])/np.sqrt(2)\n",
    "U8 = np.diag([1+1j, 1-1j, -1-1j, -1+1j])/np.sqrt(2)\n",
    "U = np.block([[U6, np.zeros([2,4]), np.zeros([2,2])],\n",
    "              [np.zeros([4,2]), U8, np.zeros([4,2])],\n",
    "              [np.zeros([2,2]), np.zeros([2,4]), U7]])\n",
    "S4 = dft2kp.rotation(1/4, [0,0,1], U=U, inversion=True)\n",
    "# ------------------------------------\n",
    "\n",
    "# ------------------------------------\n",
    "U6 = 1j*sy\n",
    "U7 = 1j*sy\n",
    "U8 = np.kron(s0, -1j*sy)\n",
    "U = np.block([[U6, np.zeros([2,4]), np.zeros([2,2])],\n",
    "              [np.zeros([4,2]), U8, np.zeros([4,2])],\n",
    "              [np.zeros([2,2]), np.zeros([2,4]), U7]])\n",
    "TRS = dft2kp.time_reversal(3, U=U)\n",
    "# ------------------------------------\n",
    "\n",
    "symms = [C3, S4, TRS]\n",
    "qs = dft2kp.qsymm(symms, dim=3, total_power=2);"
   ]
  },
  {
   "cell_type": "code",
   "execution_count": 81,
   "metadata": {},
   "outputs": [],
   "source": [
    "# save symms and qs object\n",
    "with open('zincblende.pickle', 'wb') as fp:\n",
    "  pickle.dump(symms, fp)\n",
    "  pickle.dump(qs, fp)"
   ]
  },
  {
   "cell_type": "markdown",
   "metadata": {},
   "source": [
    "# Organazing H to print as latex for paper"
   ]
  },
  {
   "cell_type": "code",
   "execution_count": 3,
   "metadata": {},
   "outputs": [],
   "source": [
    "# import and read existing data\n",
    "# to avoid running model above again if needed\n",
    "\n",
    "from qsymm.hamiltonian_generator import hamiltonian_from_family\n",
    "import sympy\n",
    "import pickle\n",
    "\n",
    "import pickle\n",
    "# load symms and qs object\n",
    "with open('zincblende.pickle', 'rb') as fp:\n",
    "  symms = pickle.load(fp)\n",
    "  qs = pickle.load(fp)"
   ]
  },
  {
   "cell_type": "code",
   "execution_count": 47,
   "metadata": {},
   "outputs": [
    {
     "data": {
      "text/latex": [
       "$\\displaystyle \\left[\\begin{matrix}c_{0} + c_{7} k^{2} & 0 & i \\left(c_{15} k_{-} k_{z} - \\frac{\\sqrt{3} c_{5} k_{+}}{2}\\right) & \\frac{i c_{12} \\cdot \\left(2 k_{z}^{2} - k_{\\parallel}^2\\right)}{2} & i \\left(\\frac{\\sqrt{3} c_{15} k_{+} k_{z}}{3} + \\frac{c_{5} k_{-}}{2}\\right) & - \\frac{\\sqrt{3} i \\hat{K} c_{12}}{2} - \\frac{2 \\sqrt{3} c_{15} k_{x} k_{y}}{3} + i c_{5} k_{z} & i \\left(c_{16} k_{+} k_{z} + c_{6} k_{-}\\right) & - c_{16} k_{x} k_{y} + i c_{6} k_{z}\\\\0 & c_{0} + c_{7} k^{2} & \\frac{i c_{12} \\left(- 2 k_{z}^{2} + k_{\\parallel}^2\\right)}{2} & i \\left(c_{15} k_{+} k_{z} + \\frac{\\sqrt{3} c_{5} k_{-}}{2}\\right) & \\frac{\\sqrt{3} i \\hat{K} c_{12}}{2} - \\frac{2 \\sqrt{3} c_{15} k_{x} k_{y}}{3} + i c_{5} k_{z} & i \\left(\\frac{\\sqrt{3} c_{15} k_{-} k_{z}}{3} - \\frac{c_{5} k_{+}}{2}\\right) & c_{16} k_{x} k_{y} - i c_{6} k_{z} & i \\left(- c_{16} k_{-} k_{z} + c_{6} k_{+}\\right)\\\\i \\left(- c_{15} k_{+} k_{z} + \\frac{\\sqrt{3} c_{5} k_{-}}{2}\\right) & \\frac{i c_{12} \\cdot \\left(2 k_{z}^{2} - k_{\\parallel}^2\\right)}{2} & c_{1} + \\frac{c_{8} \\cdot \\left(4 k_{z}^{2} + k_{\\parallel}^2\\right)}{4} + \\frac{3 c_{9} k_{\\parallel}^2}{4} & - \\frac{\\sqrt{3} c_{3} k_{-}}{2} & \\frac{\\sqrt{3} \\hat{K} c_{8}}{4} - \\frac{\\sqrt{3} \\hat{K} c_{9}}{4} - i c_{13} k_{x} k_{y} + c_{3} k_{z} & c_{13} k_{-} k_{z} - \\frac{c_{3} k_{+}}{2} & \\frac{\\sqrt{3} \\hat{K} c_{10}}{2} - 2 i c_{14} k_{x} k_{y} + c_{4} k_{z} & c_{14} k_{-} k_{z} + \\frac{c_{4} k_{+}}{2}\\\\\\frac{i c_{12} \\left(- 2 k_{z}^{2} + k_{\\parallel}^2\\right)}{2} & i \\left(- c_{15} k_{-} k_{z} - \\frac{\\sqrt{3} c_{5} k_{+}}{2}\\right) & - \\frac{\\sqrt{3} c_{3} k_{+}}{2} & c_{1} + \\frac{c_{8} \\cdot \\left(4 k_{z}^{2} + k_{\\parallel}^2\\right)}{4} + \\frac{3 c_{9} k_{\\parallel}^2}{4} & - c_{13} k_{+} k_{z} - \\frac{c_{3} k_{-}}{2} & \\frac{\\sqrt{3} \\hat{K} c_{8}}{4} - \\frac{\\sqrt{3} \\hat{K} c_{9}}{4} + i c_{13} k_{x} k_{y} - c_{3} k_{z} & c_{14} k_{+} k_{z} - \\frac{c_{4} k_{-}}{2} & - \\frac{\\sqrt{3} \\hat{K} c_{10}}{2} - 2 i c_{14} k_{x} k_{y} + c_{4} k_{z}\\\\i \\left(- \\frac{\\sqrt{3} c_{15} k_{-} k_{z}}{3} - \\frac{c_{5} k_{+}}{2}\\right) & - \\frac{\\sqrt{3} i \\hat{K} c_{12}}{2} - \\frac{2 \\sqrt{3} c_{15} k_{x} k_{y}}{3} - i c_{5} k_{z} & \\frac{\\sqrt{3} \\hat{K} c_{8}}{4} - \\frac{\\sqrt{3} \\hat{K} c_{9}}{4} + i c_{13} k_{x} k_{y} + c_{3} k_{z} & - c_{13} k_{-} k_{z} - \\frac{c_{3} k_{+}}{2} & c_{1} + \\frac{3 c_{8} k_{\\parallel}^2}{4} + \\frac{c_{9} \\cdot \\left(4 k_{z}^{2} + k_{\\parallel}^2\\right)}{4} & \\frac{\\sqrt{3} c_{3} k_{-}}{2} & \\frac{c_{10} \\cdot \\left(2 k_{z}^{2} - k_{\\parallel}^2\\right)}{2} & \\sqrt{3} \\left(- c_{14} k_{+} k_{z} + \\frac{c_{4} k_{-}}{2}\\right)\\\\\\frac{\\sqrt{3} i \\hat{K} c_{12}}{2} - \\frac{2 \\sqrt{3} c_{15} k_{x} k_{y}}{3} - i c_{5} k_{z} & i \\left(- \\frac{\\sqrt{3} c_{15} k_{+} k_{z}}{3} + \\frac{c_{5} k_{-}}{2}\\right) & c_{13} k_{+} k_{z} - \\frac{c_{3} k_{-}}{2} & \\frac{\\sqrt{3} \\hat{K} c_{8}}{4} - \\frac{\\sqrt{3} \\hat{K} c_{9}}{4} - i c_{13} k_{x} k_{y} - c_{3} k_{z} & \\frac{\\sqrt{3} c_{3} k_{+}}{2} & c_{1} + \\frac{3 c_{8} k_{\\parallel}^2}{4} + \\frac{c_{9} \\cdot \\left(4 k_{z}^{2} + k_{\\parallel}^2\\right)}{4} & \\sqrt{3} \\left(- c_{14} k_{-} k_{z} - \\frac{c_{4} k_{+}}{2}\\right) & \\frac{c_{10} \\left(- 2 k_{z}^{2} + k_{\\parallel}^2\\right)}{2}\\\\i \\left(- c_{16} k_{-} k_{z} - c_{6} k_{+}\\right) & c_{16} k_{x} k_{y} + i c_{6} k_{z} & \\frac{\\sqrt{3} \\hat{K} c_{10}}{2} + 2 i c_{14} k_{x} k_{y} + c_{4} k_{z} & c_{14} k_{-} k_{z} - \\frac{c_{4} k_{+}}{2} & \\frac{c_{10} \\cdot \\left(2 k_{z}^{2} - k_{\\parallel}^2\\right)}{2} & \\sqrt{3} \\left(- c_{14} k_{+} k_{z} - \\frac{c_{4} k_{-}}{2}\\right) & c_{11} k^{2} + c_{2} & 0\\\\- c_{16} k_{x} k_{y} - i c_{6} k_{z} & i \\left(c_{16} k_{+} k_{z} - c_{6} k_{-}\\right) & c_{14} k_{+} k_{z} + \\frac{c_{4} k_{-}}{2} & - \\frac{\\sqrt{3} \\hat{K} c_{10}}{2} + 2 i c_{14} k_{x} k_{y} + c_{4} k_{z} & \\sqrt{3} \\left(- c_{14} k_{-} k_{z} + \\frac{c_{4} k_{+}}{2}\\right) & \\frac{c_{10} \\left(- 2 k_{z}^{2} + k_{\\parallel}^2\\right)}{2} & 0 & c_{11} k^{2} + c_{2}\\end{matrix}\\right]$"
      ],
      "text/plain": [
       "Matrix([\n",
       "[                                                 c0 + c7*k^2,                                                             0,                                   I*(c15*k_-*k_z - sqrt(3)*c5*k_+/2),                                 I*c12*(2*k_z**2 - k_{\\parallel}^2)/2,                                 I*(sqrt(3)*c15*k_+*k_z/3 + c5*k_-/2),        -sqrt(3)*I*\\hat{K}*c12/2 - 2*sqrt(3)*c15*k_x*k_y/3 + I*c5*k_z,                         I*(c16*k_+*k_z + c6*k_-),                           -c16*k_x*k_y + I*c6*k_z],\n",
       "[                                                           0,                                                   c0 + c7*k^2,                                I*c12*(-2*k_z**2 + k_{\\parallel}^2)/2,                                   I*(c15*k_+*k_z + sqrt(3)*c5*k_-/2),         sqrt(3)*I*\\hat{K}*c12/2 - 2*sqrt(3)*c15*k_x*k_y/3 + I*c5*k_z,                                 I*(sqrt(3)*c15*k_-*k_z/3 - c5*k_+/2),                           c16*k_x*k_y - I*c6*k_z,                         I*(-c16*k_-*k_z + c6*k_+)],\n",
       "[                         I*(-c15*k_+*k_z + sqrt(3)*c5*k_-/2),                          I*c12*(2*k_z**2 - k_{\\parallel}^2)/2,      c1 + c8*(4*k_z**2 + k_{\\parallel}^2)/4 + 3*c9*k_{\\parallel}^2/4,                                                    -sqrt(3)*c3*k_-/2, sqrt(3)*\\hat{K}*c8/4 - sqrt(3)*\\hat{K}*c9/4 - I*c13*k_x*k_y + c3*k_z,                                               c13*k_-*k_z - c3*k_+/2, sqrt(3)*\\hat{K}*c10/2 - 2*I*c14*k_x*k_y + c4*k_z,                            c14*k_-*k_z + c4*k_+/2],\n",
       "[                       I*c12*(-2*k_z**2 + k_{\\parallel}^2)/2,                           I*(-c15*k_-*k_z - sqrt(3)*c5*k_+/2),                                                    -sqrt(3)*c3*k_+/2,      c1 + c8*(4*k_z**2 + k_{\\parallel}^2)/4 + 3*c9*k_{\\parallel}^2/4,                                              -c13*k_+*k_z - c3*k_-/2, sqrt(3)*\\hat{K}*c8/4 - sqrt(3)*\\hat{K}*c9/4 + I*c13*k_x*k_y - c3*k_z,                           c14*k_+*k_z - c4*k_-/2, -sqrt(3)*\\hat{K}*c10/2 - 2*I*c14*k_x*k_y + c4*k_z],\n",
       "[                       I*(-sqrt(3)*c15*k_-*k_z/3 - c5*k_+/2), -sqrt(3)*I*\\hat{K}*c12/2 - 2*sqrt(3)*c15*k_x*k_y/3 - I*c5*k_z, sqrt(3)*\\hat{K}*c8/4 - sqrt(3)*\\hat{K}*c9/4 + I*c13*k_x*k_y + c3*k_z,                                              -c13*k_-*k_z - c3*k_+/2,      c1 + 3*c8*k_{\\parallel}^2/4 + c9*(4*k_z**2 + k_{\\parallel}^2)/4,                                                     sqrt(3)*c3*k_-/2,               c10*(2*k_z**2 - k_{\\parallel}^2)/2,                 sqrt(3)*(-c14*k_+*k_z + c4*k_-/2)],\n",
       "[sqrt(3)*I*\\hat{K}*c12/2 - 2*sqrt(3)*c15*k_x*k_y/3 - I*c5*k_z,                         I*(-sqrt(3)*c15*k_+*k_z/3 + c5*k_-/2),                                               c13*k_+*k_z - c3*k_-/2, sqrt(3)*\\hat{K}*c8/4 - sqrt(3)*\\hat{K}*c9/4 - I*c13*k_x*k_y - c3*k_z,                                                     sqrt(3)*c3*k_+/2,      c1 + 3*c8*k_{\\parallel}^2/4 + c9*(4*k_z**2 + k_{\\parallel}^2)/4,                sqrt(3)*(-c14*k_-*k_z - c4*k_+/2),               c10*(-2*k_z**2 + k_{\\parallel}^2)/2],\n",
       "[                                   I*(-c16*k_-*k_z - c6*k_+),                                        c16*k_x*k_y + I*c6*k_z,                     sqrt(3)*\\hat{K}*c10/2 + 2*I*c14*k_x*k_y + c4*k_z,                                               c14*k_-*k_z - c4*k_+/2,                                   c10*(2*k_z**2 - k_{\\parallel}^2)/2,                                    sqrt(3)*(-c14*k_+*k_z - c4*k_-/2),                                     c11*k^2 + c2,                                                 0],\n",
       "[                                     -c16*k_x*k_y - I*c6*k_z,                                      I*(c16*k_+*k_z - c6*k_-),                                               c14*k_+*k_z + c4*k_-/2,                    -sqrt(3)*\\hat{K}*c10/2 + 2*I*c14*k_x*k_y + c4*k_z,                                    sqrt(3)*(-c14*k_-*k_z + c4*k_+/2),                                  c10*(-2*k_z**2 + k_{\\parallel}^2)/2,                                                0,                                      c11*k^2 + c2]])"
      ]
     },
     "execution_count": 47,
     "metadata": {},
     "output_type": "execute_result"
    }
   ],
   "source": [
    "# print model in Latex format\n",
    "H = hamiltonian_from_family(qs.model, nsimplify=True)\n",
    "\n",
    "cs = sympy.symbols('c:17')\n",
    "kx, ky, kz = sympy.symbols('k_x, k_y, k_z')\n",
    "k2, kp, km = sympy.symbols('k^2, k_+, k_-')\n",
    "kxy2 = sympy.symbols('k_{\\parallel}^2') # = kx**2 + ky**2\n",
    "Kbig = sympy.symbols('\\hat{K}') # = kx**2 - ky**2\n",
    "# kp = kx+i.ky\n",
    "# km = kx-i.ky\n",
    "# kx = (kp+km)/2\n",
    "# ky = (kp-km)/2i\n",
    "\n",
    "H = H.applyfunc(lambda ij: sympy.collect(ij, cs))\n",
    "\n",
    "H = sympy.simplify(H)\n",
    "H = sympy.simplify(H.subs({kx**2 + ky**2 + kz**2: k2}))\n",
    "H = sympy.simplify(H.subs({kx**2 + ky**2: kxy2}))\n",
    "H = sympy.simplify(H.subs({kx+sympy.I*ky: kp, \n",
    "                           kx-sympy.I*ky: km,\n",
    "                           sympy.I*kx-ky: sympy.I*kp, \n",
    "                           sympy.I*kx+ky: sympy.I*km,\n",
    "                           }))\n",
    "\n",
    "H = sympy.simplify(H.subs({kx**2 - ky**2: Kbig}))\n",
    "\n",
    "H"
   ]
  },
  {
   "cell_type": "code",
   "execution_count": 51,
   "metadata": {},
   "outputs": [
    {
     "name": "stdout",
     "output_type": "stream",
     "text": [
      "\\left[\\begin{matrix}c_{0} + c_{7} k^{2} & 0 & i \\left(c_{15} k_{-} k_{z} - \\frac{\\sqrt{3} c_{5} k_{+}}{2}\\right) & \\frac{i c_{12} \\cdot \\left(2 k_{z}^{2} - k_{\\parallel}^2\\right)}{2} & i \\left(\\frac{\\sqrt{3} c_{15} k_{+} k_{z}}{3} + \\frac{c_{5} k_{-}}{2}\\right) & - \\frac{\\sqrt{3} i \\hat{K} c_{12}}{2} - \\frac{2 \\sqrt{3} c_{15} k_{x} k_{y}}{3} + i c_{5} k_{z} & i \\left(c_{16} k_{+} k_{z} + c_{6} k_{-}\\right) & - c_{16} k_{x} k_{y} + i c_{6} k_{z}\\\\0 & c_{0} + c_{7} k^{2} & \\frac{i c_{12} \\left(- 2 k_{z}^{2} + k_{\\parallel}^2\\right)}{2} & i \\left(c_{15} k_{+} k_{z} + \\frac{\\sqrt{3} c_{5} k_{-}}{2}\\right) & \\frac{\\sqrt{3} i \\hat{K} c_{12}}{2} - \\frac{2 \\sqrt{3} c_{15} k_{x} k_{y}}{3} + i c_{5} k_{z} & i \\left(\\frac{\\sqrt{3} c_{15} k_{-} k_{z}}{3} - \\frac{c_{5} k_{+}}{2}\\right) & c_{16} k_{x} k_{y} - i c_{6} k_{z} & i \\left(- c_{16} k_{-} k_{z} + c_{6} k_{+}\\right)\\\\i \\left(- c_{15} k_{+} k_{z} + \\frac{\\sqrt{3} c_{5} k_{-}}{2}\\right) & \\frac{i c_{12} \\cdot \\left(2 k_{z}^{2} - k_{\\parallel}^2\\right)}{2} & c_{1} + \\frac{c_{8} \\cdot \\left(4 k_{z}^{2} + k_{\\parallel}^2\\right)}{4} + \\frac{3 c_{9} k_{\\parallel}^2}{4} & - \\frac{\\sqrt{3} c_{3} k_{-}}{2} & \\frac{\\sqrt{3} \\hat{K} c_{8}}{4} - \\frac{\\sqrt{3} \\hat{K} c_{9}}{4} - i c_{13} k_{x} k_{y} + c_{3} k_{z} & c_{13} k_{-} k_{z} - \\frac{c_{3} k_{+}}{2} & \\frac{\\sqrt{3} \\hat{K} c_{10}}{2} - 2 i c_{14} k_{x} k_{y} + c_{4} k_{z} & c_{14} k_{-} k_{z} + \\frac{c_{4} k_{+}}{2}\\\\\\frac{i c_{12} \\left(- 2 k_{z}^{2} + k_{\\parallel}^2\\right)}{2} & i \\left(- c_{15} k_{-} k_{z} - \\frac{\\sqrt{3} c_{5} k_{+}}{2}\\right) & - \\frac{\\sqrt{3} c_{3} k_{+}}{2} & c_{1} + \\frac{c_{8} \\cdot \\left(4 k_{z}^{2} + k_{\\parallel}^2\\right)}{4} + \\frac{3 c_{9} k_{\\parallel}^2}{4} & - c_{13} k_{+} k_{z} - \\frac{c_{3} k_{-}}{2} & \\frac{\\sqrt{3} \\hat{K} c_{8}}{4} - \\frac{\\sqrt{3} \\hat{K} c_{9}}{4} + i c_{13} k_{x} k_{y} - c_{3} k_{z} & c_{14} k_{+} k_{z} - \\frac{c_{4} k_{-}}{2} & - \\frac{\\sqrt{3} \\hat{K} c_{10}}{2} - 2 i c_{14} k_{x} k_{y} + c_{4} k_{z}\\\\i \\left(- \\frac{\\sqrt{3} c_{15} k_{-} k_{z}}{3} - \\frac{c_{5} k_{+}}{2}\\right) & - \\frac{\\sqrt{3} i \\hat{K} c_{12}}{2} - \\frac{2 \\sqrt{3} c_{15} k_{x} k_{y}}{3} - i c_{5} k_{z} & \\frac{\\sqrt{3} \\hat{K} c_{8}}{4} - \\frac{\\sqrt{3} \\hat{K} c_{9}}{4} + i c_{13} k_{x} k_{y} + c_{3} k_{z} & - c_{13} k_{-} k_{z} - \\frac{c_{3} k_{+}}{2} & c_{1} + \\frac{3 c_{8} k_{\\parallel}^2}{4} + \\frac{c_{9} \\cdot \\left(4 k_{z}^{2} + k_{\\parallel}^2\\right)}{4} & \\frac{\\sqrt{3} c_{3} k_{-}}{2} & \\frac{c_{10} \\cdot \\left(2 k_{z}^{2} - k_{\\parallel}^2\\right)}{2} & \\sqrt{3} \\left(- c_{14} k_{+} k_{z} + \\frac{c_{4} k_{-}}{2}\\right)\\\\\\frac{\\sqrt{3} i \\hat{K} c_{12}}{2} - \\frac{2 \\sqrt{3} c_{15} k_{x} k_{y}}{3} - i c_{5} k_{z} & i \\left(- \\frac{\\sqrt{3} c_{15} k_{+} k_{z}}{3} + \\frac{c_{5} k_{-}}{2}\\right) & c_{13} k_{+} k_{z} - \\frac{c_{3} k_{-}}{2} & \\frac{\\sqrt{3} \\hat{K} c_{8}}{4} - \\frac{\\sqrt{3} \\hat{K} c_{9}}{4} - i c_{13} k_{x} k_{y} - c_{3} k_{z} & \\frac{\\sqrt{3} c_{3} k_{+}}{2} & c_{1} + \\frac{3 c_{8} k_{\\parallel}^2}{4} + \\frac{c_{9} \\cdot \\left(4 k_{z}^{2} + k_{\\parallel}^2\\right)}{4} & \\sqrt{3} \\left(- c_{14} k_{-} k_{z} - \\frac{c_{4} k_{+}}{2}\\right) & \\frac{c_{10} \\left(- 2 k_{z}^{2} + k_{\\parallel}^2\\right)}{2}\\\\i \\left(- c_{16} k_{-} k_{z} - c_{6} k_{+}\\right) & c_{16} k_{x} k_{y} + i c_{6} k_{z} & \\frac{\\sqrt{3} \\hat{K} c_{10}}{2} + 2 i c_{14} k_{x} k_{y} + c_{4} k_{z} & c_{14} k_{-} k_{z} - \\frac{c_{4} k_{+}}{2} & \\frac{c_{10} \\cdot \\left(2 k_{z}^{2} - k_{\\parallel}^2\\right)}{2} & \\sqrt{3} \\left(- c_{14} k_{+} k_{z} - \\frac{c_{4} k_{-}}{2}\\right) & c_{11} k^{2} + c_{2} & 0\\\\- c_{16} k_{x} k_{y} - i c_{6} k_{z} & i \\left(c_{16} k_{+} k_{z} - c_{6} k_{-}\\right) & c_{14} k_{+} k_{z} + \\frac{c_{4} k_{-}}{2} & - \\frac{\\sqrt{3} \\hat{K} c_{10}}{2} + 2 i c_{14} k_{x} k_{y} + c_{4} k_{z} & \\sqrt{3} \\left(- c_{14} k_{-} k_{z} + \\frac{c_{4} k_{+}}{2}\\right) & \\frac{c_{10} \\left(- 2 k_{z}^{2} + k_{\\parallel}^2\\right)}{2} & 0 & c_{11} k^{2} + c_{2}\\end{matrix}\\right]\n"
     ]
    }
   ],
   "source": [
    "print(sympy.latex(H))"
   ]
  },
  {
   "cell_type": "code",
   "execution_count": null,
   "metadata": {},
   "outputs": [],
   "source": []
  }
 ],
 "metadata": {
  "kernelspec": {
   "display_name": "Python 3.9.12 ('base')",
   "language": "python",
   "name": "python3"
  },
  "language_info": {
   "codemirror_mode": {
    "name": "ipython",
    "version": 3
   },
   "file_extension": ".py",
   "mimetype": "text/x-python",
   "name": "python",
   "nbconvert_exporter": "python",
   "pygments_lexer": "ipython3",
   "version": "3.9.12"
  },
  "orig_nbformat": 4,
  "vscode": {
   "interpreter": {
    "hash": "db1a563fab97a9a8ce88d3971a3486981b0e1162d1aa065e589063358c46b367"
   }
  }
 },
 "nbformat": 4,
 "nbformat_minor": 2
}
