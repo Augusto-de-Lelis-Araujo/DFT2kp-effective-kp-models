{
 "cells": [
  {
   "cell_type": "markdown",
   "metadata": {},
   "source": [
    "# Pre generated model: Rock-salt\n",
    "\n",
    "Here we run \"step 4\" separately to define a common object for all materials of the same type.\n",
    "\n",
    "This is useful because each time you run QSYMM to define the kp model, its numerical process may lead Hamiltonian families that are equivalent, but with different numerical prefactors or different order of the $c_n$ coefficients. Therefore, here define the model and store it in a file to be read by the examples that uses this crystal symmetry."
   ]
  },
  {
   "cell_type": "code",
   "execution_count": 1,
   "metadata": {},
   "outputs": [],
   "source": [
    "import numpy as np\n",
    "import pydft2kp as dft2kp\n",
    "from qsymm.hamiltonian_generator import hamiltonian_from_family\n",
    "import sympy\n",
    "import pickle"
   ]
  },
  {
   "cell_type": "code",
   "execution_count": 6,
   "metadata": {},
   "outputs": [
    {
     "data": {
      "text/latex": [
       "$\\displaystyle \\left[\\begin{matrix}c_{0} + c_{4} k_{x}^{2} + c_{4} k_{y}^{2} + c_{4} k_{z}^{2} + c_{6} k_{x} k_{y} + c_{6} k_{x} k_{z} + c_{6} k_{y} k_{z} & 0 & - c_{2} k_{x} + c_{2} k_{y} + i c_{3} k_{x} + i c_{3} k_{y} + i c_{3} k_{z} & - i c_{2} k_{x} - c_{2} k_{y} + c_{2} k_{z} \\left(1 + i\\right)\\\\0 & c_{0} + c_{4} k_{x}^{2} + c_{4} k_{y}^{2} + c_{4} k_{z}^{2} + c_{6} k_{x} k_{y} + c_{6} k_{x} k_{z} + c_{6} k_{y} k_{z} & i c_{2} k_{x} - c_{2} k_{y} + c_{2} k_{z} \\left(1 - i\\right) & c_{2} k_{x} - c_{2} k_{y} + i c_{3} k_{x} + i c_{3} k_{y} + i c_{3} k_{z}\\\\- c_{2} k_{x} + c_{2} k_{y} - i c_{3} k_{x} - i c_{3} k_{y} - i c_{3} k_{z} & - i c_{2} k_{x} - c_{2} k_{y} + c_{2} k_{z} \\left(1 + i\\right) & c_{1} + c_{5} k_{x}^{2} + c_{5} k_{y}^{2} + c_{5} k_{z}^{2} + c_{7} k_{x} k_{y} + c_{7} k_{x} k_{z} + c_{7} k_{y} k_{z} & 0\\\\i c_{2} k_{x} - c_{2} k_{y} + c_{2} k_{z} \\left(1 - i\\right) & c_{2} k_{x} - c_{2} k_{y} - i c_{3} k_{x} - i c_{3} k_{y} - i c_{3} k_{z} & 0 & c_{1} + c_{5} k_{x}^{2} + c_{5} k_{y}^{2} + c_{5} k_{z}^{2} + c_{7} k_{x} k_{y} + c_{7} k_{x} k_{z} + c_{7} k_{y} k_{z}\\end{matrix}\\right]$"
      ],
      "text/plain": [
       "Matrix([\n",
       "[c0 + c4*k_x**2 + c4*k_y**2 + c4*k_z**2 + c6*k_x*k_y + c6*k_x*k_z + c6*k_y*k_z,                                                                             0,                             -c2*k_x + c2*k_y + I*c3*k_x + I*c3*k_y + I*c3*k_z,                                           -I*c2*k_x - c2*k_y + c2*k_z*(1 + I)],\n",
       "[                                                                            0, c0 + c4*k_x**2 + c4*k_y**2 + c4*k_z**2 + c6*k_x*k_y + c6*k_x*k_z + c6*k_y*k_z,                                            I*c2*k_x - c2*k_y + c2*k_z*(1 - I),                              c2*k_x - c2*k_y + I*c3*k_x + I*c3*k_y + I*c3*k_z],\n",
       "[                            -c2*k_x + c2*k_y - I*c3*k_x - I*c3*k_y - I*c3*k_z,                                           -I*c2*k_x - c2*k_y + c2*k_z*(1 + I), c1 + c5*k_x**2 + c5*k_y**2 + c5*k_z**2 + c7*k_x*k_y + c7*k_x*k_z + c7*k_y*k_z,                                                                             0],\n",
       "[                                           I*c2*k_x - c2*k_y + c2*k_z*(1 - I),                              c2*k_x - c2*k_y - I*c3*k_x - I*c3*k_y - I*c3*k_z,                                                                             0, c1 + c5*k_x**2 + c5*k_y**2 + c5*k_z**2 + c7*k_x*k_y + c7*k_x*k_z + c7*k_y*k_z]])"
      ]
     },
     "metadata": {},
     "output_type": "display_data"
    }
   ],
   "source": [
    "# step 4: builds optimal model with qsymm\n",
    "# s0, sx, sy, sz: Pauli matrices\n",
    "from pydft2kp.constants import s0, sx, sy, sz\n",
    "from scipy.linalg import expm, block_diag\n",
    "\n",
    "# build symmetry operations of D3d\n",
    "# consider also T = time-reversal symmetry\n",
    "\n",
    "# ------------------------------------\n",
    "sigma = (sx + sy + sz)/np.sqrt(3)\n",
    "U = np.kron(s0, expm(-1j*(np.pi/3)*sigma))\n",
    "C3 = dft2kp.rotation(1/3, [1,1,1], U=U)\n",
    "\n",
    "sigma = (-sx + sy)/np.sqrt(2)\n",
    "U = np.kron(sz, expm(-1j*(np.pi/2)*sigma))\n",
    "C2 = dft2kp.rotation(1/2, [-1,1,0], U=U)\n",
    "\n",
    "U = np.kron(sz, s0)\n",
    "Inv = dft2kp.inversion(3, U=U)\n",
    "\n",
    "U = np.kron(s0, 1j*sy)\n",
    "TRS = dft2kp.time_reversal(3, U=U)\n",
    "# ------------------------------------\n",
    "\n",
    "symms = [C2, C3, Inv, TRS]\n",
    "qs = dft2kp.qsymm(symms, dim=3, total_power=2);"
   ]
  },
  {
   "cell_type": "code",
   "execution_count": 7,
   "metadata": {},
   "outputs": [],
   "source": [
    "# save symms and qs object\n",
    "with open('rocksalt.pickle', 'wb') as fp:\n",
    "  pickle.dump(symms, fp)\n",
    "  pickle.dump(qs, fp)"
   ]
  },
  {
   "cell_type": "markdown",
   "metadata": {},
   "source": [
    "# Organazing H to print as latex for paper"
   ]
  },
  {
   "cell_type": "code",
   "execution_count": 8,
   "metadata": {},
   "outputs": [
    {
     "data": {
      "text/latex": [
       "$\\displaystyle \\left[\\begin{matrix}c_{0} + c_{4} k^{2} + c_{6} \\left(k_{x} k_{y} + k_{x} k_{z} + k_{y} k_{z}\\right) & 0 & - c_{2} \\left(k_{x} - k_{y}\\right) + i c_{3} \\left(k_{x} + k_{y} + k_{z}\\right) & c_{2} \\left(- i k_{-} + k_{z} \\left(1 + i\\right)\\right)\\\\0 & c_{0} + c_{4} k^{2} + c_{6} \\left(k_{x} k_{y} + k_{x} k_{z} + k_{y} k_{z}\\right) & c_{2} \\left(i k_{+} + k_{z} \\left(1 - i\\right)\\right) & c_{2} \\left(k_{x} - k_{y}\\right) + i c_{3} \\left(k_{x} + k_{y} + k_{z}\\right)\\\\- c_{2} \\left(k_{x} - k_{y}\\right) - i c_{3} \\left(k_{x} + k_{y} + k_{z}\\right) & c_{2} \\left(- i k_{-} + k_{z} \\left(1 + i\\right)\\right) & c_{1} + c_{5} k^{2} + c_{7} \\left(k_{x} k_{y} + k_{x} k_{z} + k_{y} k_{z}\\right) & 0\\\\c_{2} \\left(i k_{+} + k_{z} \\left(1 - i\\right)\\right) & c_{2} \\left(k_{x} - k_{y}\\right) - i c_{3} \\left(k_{x} + k_{y} + k_{z}\\right) & 0 & c_{1} + c_{5} k^{2} + c_{7} \\left(k_{x} k_{y} + k_{x} k_{z} + k_{y} k_{z}\\right)\\end{matrix}\\right]$"
      ],
      "text/plain": [
       "Matrix([\n",
       "[c0 + c4*k^2 + c6*(k_x*k_y + k_x*k_z + k_y*k_z),                                              0,       -c2*(k_x - k_y) + I*c3*(k_x + k_y + k_z),                      c2*(-I*k_- + k_z*(1 + I))],\n",
       "[                                             0, c0 + c4*k^2 + c6*(k_x*k_y + k_x*k_z + k_y*k_z),                       c2*(I*k_+ + k_z*(1 - I)),        c2*(k_x - k_y) + I*c3*(k_x + k_y + k_z)],\n",
       "[      -c2*(k_x - k_y) - I*c3*(k_x + k_y + k_z),                      c2*(-I*k_- + k_z*(1 + I)), c1 + c5*k^2 + c7*(k_x*k_y + k_x*k_z + k_y*k_z),                                              0],\n",
       "[                      c2*(I*k_+ + k_z*(1 - I)),        c2*(k_x - k_y) - I*c3*(k_x + k_y + k_z),                                              0, c1 + c5*k^2 + c7*(k_x*k_y + k_x*k_z + k_y*k_z)]])"
      ]
     },
     "execution_count": 8,
     "metadata": {},
     "output_type": "execute_result"
    }
   ],
   "source": [
    "# print model in Latex format\n",
    "H = hamiltonian_from_family(qs.model, nsimplify=True)\n",
    "\n",
    "cs = sympy.symbols('c:17')\n",
    "kx, ky, kz = sympy.symbols('k_x, k_y, k_z')\n",
    "k2, kp, km = sympy.symbols('k^2, k_+, k_-')\n",
    "kxy2 = sympy.symbols('k_{\\parallel}^2') # = kx**2 + ky**2\n",
    "Kbig = sympy.symbols('\\hat{K}') # = kx**2 - ky**2\n",
    "# kp = kx+i.ky\n",
    "# km = kx-i.ky\n",
    "# kx = (kp+km)/2\n",
    "# ky = (kp-km)/2i\n",
    "\n",
    "H = H.applyfunc(lambda ij: sympy.collect(ij, cs))\n",
    "\n",
    "H = sympy.simplify(H)\n",
    "H = sympy.simplify(H.subs({kx**2 + ky**2 + kz**2: k2}))\n",
    "H = sympy.simplify(H.subs({kx**2 + ky**2: kxy2}))\n",
    "H = sympy.simplify(H.subs({kx+sympy.I*ky: kp, \n",
    "                           kx-sympy.I*ky: km,\n",
    "                           sympy.I*kx-ky: sympy.I*kp, \n",
    "                           sympy.I*kx+ky: sympy.I*km,\n",
    "                           }))\n",
    "\n",
    "H = sympy.simplify(H.subs({kx**2 - ky**2: Kbig}))\n",
    "\n",
    "H"
   ]
  },
  {
   "cell_type": "code",
   "execution_count": 9,
   "metadata": {},
   "outputs": [
    {
     "name": "stdout",
     "output_type": "stream",
     "text": [
      "\\left[\\begin{matrix}c_{0} + c_{4} k^{2} + c_{6} \\left(k_{x} k_{y} + k_{x} k_{z} + k_{y} k_{z}\\right) & 0 & - c_{2} \\left(k_{x} - k_{y}\\right) + i c_{3} \\left(k_{x} + k_{y} + k_{z}\\right) & c_{2} \\left(- i k_{-} + k_{z} \\left(1 + i\\right)\\right)\\\\0 & c_{0} + c_{4} k^{2} + c_{6} \\left(k_{x} k_{y} + k_{x} k_{z} + k_{y} k_{z}\\right) & c_{2} \\left(i k_{+} + k_{z} \\left(1 - i\\right)\\right) & c_{2} \\left(k_{x} - k_{y}\\right) + i c_{3} \\left(k_{x} + k_{y} + k_{z}\\right)\\\\- c_{2} \\left(k_{x} - k_{y}\\right) - i c_{3} \\left(k_{x} + k_{y} + k_{z}\\right) & c_{2} \\left(- i k_{-} + k_{z} \\left(1 + i\\right)\\right) & c_{1} + c_{5} k^{2} + c_{7} \\left(k_{x} k_{y} + k_{x} k_{z} + k_{y} k_{z}\\right) & 0\\\\c_{2} \\left(i k_{+} + k_{z} \\left(1 - i\\right)\\right) & c_{2} \\left(k_{x} - k_{y}\\right) - i c_{3} \\left(k_{x} + k_{y} + k_{z}\\right) & 0 & c_{1} + c_{5} k^{2} + c_{7} \\left(k_{x} k_{y} + k_{x} k_{z} + k_{y} k_{z}\\right)\\end{matrix}\\right]\n"
     ]
    }
   ],
   "source": [
    "print(sympy.latex(H))"
   ]
  },
  {
   "cell_type": "code",
   "execution_count": null,
   "metadata": {},
   "outputs": [],
   "source": []
  }
 ],
 "metadata": {
  "kernelspec": {
   "display_name": "Python 3.9.12 ('base')",
   "language": "python",
   "name": "python3"
  },
  "language_info": {
   "codemirror_mode": {
    "name": "ipython",
    "version": 3
   },
   "file_extension": ".py",
   "mimetype": "text/x-python",
   "name": "python",
   "nbconvert_exporter": "python",
   "pygments_lexer": "ipython3",
   "version": "3.9.12"
  },
  "orig_nbformat": 4,
  "vscode": {
   "interpreter": {
    "hash": "db1a563fab97a9a8ce88d3971a3486981b0e1162d1aa065e589063358c46b367"
   }
  }
 },
 "nbformat": 4,
 "nbformat_minor": 2
}
