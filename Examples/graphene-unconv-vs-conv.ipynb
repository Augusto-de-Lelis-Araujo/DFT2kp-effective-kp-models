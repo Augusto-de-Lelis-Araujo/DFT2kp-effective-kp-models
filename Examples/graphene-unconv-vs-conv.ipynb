{
 "cells": [
  {
   "cell_type": "code",
   "execution_count": 6,
   "metadata": {},
   "outputs": [],
   "source": [
    "import numpy as np\n",
    "import pydft2kp as dft2kp\n",
    "from pydft2kp.constants import s0, sx, sy, sz"
   ]
  },
  {
   "attachments": {},
   "cell_type": "markdown",
   "metadata": {},
   "source": [
    "# Unconventional case\n",
    "\n",
    "Basis: $|XZ\\rangle$, $|YZ\\rangle$"
   ]
  },
  {
   "cell_type": "code",
   "execution_count": 13,
   "metadata": {},
   "outputs": [
    {
     "data": {
      "text/latex": [
       "$\\displaystyle \\left[\\begin{matrix}c_{0} - c_{1} k_{x} & c_{1} k_{y}\\\\c_{1} k_{y} & c_{0} + c_{1} k_{x}\\end{matrix}\\right]$"
      ],
      "text/plain": [
       "Matrix([\n",
       "[c0 - c1*k_x,      c1*k_y],\n",
       "[     c1*k_y, c0 + c1*k_x]])"
      ]
     },
     "metadata": {},
     "output_type": "display_data"
    },
    {
     "data": {
      "text/latex": [
       "$\\displaystyle \\left[\\begin{matrix}c_{0} k_{y}^{2} + c_{1} k_{x}^{2} + c_{2} k_{z}^{2} & - c_{0} k_{x} k_{y} + c_{1} k_{x} k_{y}\\\\- c_{0} k_{x} k_{y} + c_{1} k_{x} k_{y} & c_{0} k_{x}^{2} + c_{1} k_{y}^{2} + c_{2} k_{z}^{2}\\end{matrix}\\right]$"
      ],
      "text/plain": [
       "Matrix([\n",
       "[c0*k_y**2 + c1*k_x**2 + c2*k_z**2,          -c0*k_x*k_y + c1*k_x*k_y],\n",
       "[         -c0*k_x*k_y + c1*k_x*k_y, c0*k_x**2 + c1*k_y**2 + c2*k_z**2]])"
      ]
     },
     "metadata": {},
     "output_type": "display_data"
    }
   ],
   "source": [
    "phi = 2*np.pi/3\n",
    "\n",
    "U = np.array([[np.cos(phi), -np.sin(phi)],\n",
    "              [np.sin(phi),  np.cos(phi)]])\n",
    "C3 = dft2kp.rotation(1/3, [0,0,1], U=U)\n",
    "\n",
    "U = sz\n",
    "My = dft2kp.mirror([0,1,0], U=U)\n",
    "\n",
    "U = -s0\n",
    "Mz = dft2kp.mirror([0,0,1], U=U)\n",
    "\n",
    "symms = [C3, My, Mz]\n",
    "dft2kp.qsymm(symms, total_power=1, dim=3);\n",
    "dft2kp.qsymm(symms, total_power=[2], dim=3);"
   ]
  },
  {
   "attachments": {},
   "cell_type": "markdown",
   "metadata": {},
   "source": [
    "# Conventional case\n",
    "\n",
    "Basis: $|(X+iY)Z\\rangle$, $|(X-iY)Z\\rangle$"
   ]
  },
  {
   "cell_type": "code",
   "execution_count": 12,
   "metadata": {},
   "outputs": [
    {
     "data": {
      "text/latex": [
       "$\\displaystyle \\left[\\begin{matrix}c_{0} & - c_{1} k_{x} + i c_{1} k_{y}\\\\- c_{1} k_{x} - i c_{1} k_{y} & c_{0}\\end{matrix}\\right]$"
      ],
      "text/plain": [
       "Matrix([\n",
       "[                c0, -c1*k_x + I*c1*k_y],\n",
       "[-c1*k_x - I*c1*k_y,                 c0]])"
      ]
     },
     "metadata": {},
     "output_type": "display_data"
    },
    {
     "data": {
      "text/latex": [
       "$\\displaystyle \\left[\\begin{matrix}c_{0} k_{x}^{2} + c_{0} k_{y}^{2} + c_{2} k_{z}^{2} & - c_{1} k_{x}^{2} - 2 i c_{1} k_{x} k_{y} + c_{1} k_{y}^{2}\\\\- c_{1} k_{x}^{2} + 2 i c_{1} k_{x} k_{y} + c_{1} k_{y}^{2} & c_{0} k_{x}^{2} + c_{0} k_{y}^{2} + c_{2} k_{z}^{2}\\end{matrix}\\right]$"
      ],
      "text/plain": [
       "Matrix([\n",
       "[      c0*k_x**2 + c0*k_y**2 + c2*k_z**2, -c1*k_x**2 - 2*I*c1*k_x*k_y + c1*k_y**2],\n",
       "[-c1*k_x**2 + 2*I*c1*k_x*k_y + c1*k_y**2,       c0*k_x**2 + c0*k_y**2 + c2*k_z**2]])"
      ]
     },
     "metadata": {},
     "output_type": "display_data"
    }
   ],
   "source": [
    "phi = 2*np.pi/3\n",
    "U = np.diag([np.exp(1j*phi), np.exp(-1j*phi)])\n",
    "C3 = dft2kp.rotation(1/3, [0,0,1], U=U)\n",
    "\n",
    "U = sx\n",
    "My = dft2kp.mirror([0,1,0], U=U)\n",
    "\n",
    "U = -s0\n",
    "Mz = dft2kp.mirror([0,0,1], U=U)\n",
    "\n",
    "symms = [C3, My, Mz, ]\n",
    "dft2kp.qsymm(symms, total_power=1, dim=3);\n",
    "dft2kp.qsymm(symms, total_power=[2], dim=3);"
   ]
  },
  {
   "cell_type": "code",
   "execution_count": null,
   "metadata": {},
   "outputs": [],
   "source": []
  }
 ],
 "metadata": {
  "kernelspec": {
   "display_name": "Python 3.9.12 ('base')",
   "language": "python",
   "name": "python3"
  },
  "language_info": {
   "codemirror_mode": {
    "name": "ipython",
    "version": 3
   },
   "file_extension": ".py",
   "mimetype": "text/x-python",
   "name": "python",
   "nbconvert_exporter": "python",
   "pygments_lexer": "ipython3",
   "version": "3.9.12"
  },
  "orig_nbformat": 4,
  "vscode": {
   "interpreter": {
    "hash": "db1a563fab97a9a8ce88d3971a3486981b0e1162d1aa065e589063358c46b367"
   }
  }
 },
 "nbformat": 4,
 "nbformat_minor": 2
}
